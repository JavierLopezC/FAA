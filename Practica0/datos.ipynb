{
 "cells": [
  {
   "cell_type": "code",
   "execution_count": 1,
   "metadata": {},
   "outputs": [],
   "source": [
    "# -*- coding: utf-8 -*-\n",
    "\n",
    "# coding: utf-8\n",
    "from Datos import Datos\n"
   ]
  },
  {
   "cell_type": "markdown",
   "metadata": {},
   "source": [
    "Notebook para probar la clase **Datos**. Esta clase procesa los datos de un fichero dado para que podamos trabajar con ellos.\n"
   ]
  },
  {
   "cell_type": "markdown",
   "metadata": {},
   "source": [
    "Realizamos la prueba con dos ficheros:\n",
    "    "
   ]
  },
  {
   "cell_type": "markdown",
   "metadata": {},
   "source": [
    "El programa debe hacer una lista de valores booleanos que indican si los valores procesados son **nominales**."
   ]
  },
  {
   "cell_type": "code",
   "execution_count": 2,
   "metadata": {},
   "outputs": [
    {
     "name": "stdout",
     "output_type": "stream",
     "text": [
      "Tic-tac-toe:\n",
      "\n",
      "nominalAtributos:\n",
      "[True, True, True, True, True, True, True, True, True, True]\n"
     ]
    }
   ],
   "source": [
    "   \n",
    "    tictac = Datos(\"tic-tac-toe.data\")\n",
    "    german = Datos(\"german.data\")\n",
    "    print(\"Tic-tac-toe:\\n\")\n",
    "    print(\"nominalAtributos:\")\n",
    "    print(tictac.nominalAtributos)"
   ]
  },
  {
   "cell_type": "markdown",
   "metadata": {},
   "source": [
    "El programa asigna valores numéricos a los nominales para poder trabajar con ellos y lo guarda en un **diccionario**."
   ]
  },
  {
   "cell_type": "code",
   "execution_count": 3,
   "metadata": {},
   "outputs": [
    {
     "name": "stdout",
     "output_type": "stream",
     "text": [
      "\n",
      "Diccionario:\n",
      "{'TLeftSq': {'b': 0, 'o': 1, 'x': 2}, 'TMidSq': {'b': 0, 'o': 1, 'x': 2}, 'TRightSq': {'b': 0, 'o': 1, 'x': 2}, 'MLeftSq': {'b': 0, 'o': 1, 'x': 2}, 'MMidSq': {'b': 0, 'o': 1, 'x': 2}, 'MRightSq': {'b': 0, 'o': 1, 'x': 2}, 'BLeftSq': {'b': 0, 'o': 1, 'x': 2}, 'BMidSq': {'b': 0, 'o': 1, 'x': 2}, 'BRightSq': {'b': 0, 'o': 1, 'x': 2}, 'Class': {'negative': 0, 'positive': 1}}\n"
     ]
    }
   ],
   "source": [
    "    print(\"\\nDiccionario:\")\n",
    "    print(tictac.diccionario)"
   ]
  },
  {
   "cell_type": "markdown",
   "metadata": {},
   "source": [
    "Array **numpy** que almacena los datos con los que trabajaremos."
   ]
  },
  {
   "cell_type": "code",
   "execution_count": 4,
   "metadata": {},
   "outputs": [
    {
     "name": "stdout",
     "output_type": "stream",
     "text": [
      "\n",
      "Datos:\n",
      "[[2 2 2 ... 1 1 1]\n",
      " [2 2 2 ... 2 1 1]\n",
      " [2 2 2 ... 1 2 1]\n",
      " ...\n",
      " [1 2 1 ... 1 2 0]\n",
      " [1 2 1 ... 1 2 0]\n",
      " [1 1 2 ... 2 2 0]]\n"
     ]
    }
   ],
   "source": [
    "    print(\"\\nDatos:\")\n",
    "    print(tictac.datos)\n",
    "    "
   ]
  },
  {
   "cell_type": "markdown",
   "metadata": {},
   "source": [
    "El programa debe hacer una lista de valores booleanos que indican si los valores procesados son **nominales**."
   ]
  },
  {
   "cell_type": "code",
   "execution_count": 5,
   "metadata": {},
   "outputs": [
    {
     "name": "stdout",
     "output_type": "stream",
     "text": [
      "German:\n",
      "\n",
      "nominalAtributos:\n",
      "[True, False, True, True, False, True, True, False, True, True, False, True, False, True, True, False, True, False, True, True, False]\n"
     ]
    }
   ],
   "source": [
    "    print(\"German:\\n\")\n",
    "    print(\"nominalAtributos:\")\n",
    "    print(german.nominalAtributos)"
   ]
  },
  {
   "cell_type": "markdown",
   "metadata": {},
   "source": [
    "El programa asigna valores numéricos a los nominales para poder trabajar con ellos y lo guarda en un **diccionario**."
   ]
  },
  {
   "cell_type": "code",
   "execution_count": 6,
   "metadata": {},
   "outputs": [
    {
     "name": "stdout",
     "output_type": "stream",
     "text": [
      "\n",
      "Diccionario:\n",
      "{'A1': {'A11': 0, 'A12': 1, 'A13': 2, 'A14': 3}, 'A2': {}, 'A3': {'A30': 0, 'A31': 1, 'A32': 2, 'A33': 3, 'A34': 4}, 'A4': {'A40': 0, 'A41': 1, 'A410': 2, 'A42': 3, 'A43': 4, 'A44': 5, 'A45': 6, 'A46': 7, 'A48': 8, 'A49': 9}, 'A5': {}, 'A6': {'A61': 0, 'A62': 1, 'A63': 2, 'A64': 3, 'A65': 4}, 'A7': {'A71': 0, 'A72': 1, 'A73': 2, 'A74': 3, 'A75': 4}, 'A8': {}, 'A9': {'A91': 0, 'A92': 1, 'A93': 2, 'A94': 3}, 'A10': {'A101': 0, 'A102': 1, 'A103': 2}, 'A11': {}, 'A12': {'A121': 0, 'A122': 1, 'A123': 2, 'A124': 3}, 'A13': {}, 'A14': {'A141': 0, 'A142': 1, 'A143': 2}, 'A15': {'A151': 0, 'A152': 1, 'A153': 2}, 'A16': {}, 'A17': {'A171': 0, 'A172': 1, 'A173': 2, 'A174': 3}, 'A18': {}, 'A19': {'A191': 0, 'A192': 1}, 'A20': {'A201': 0, 'A202': 1}, 'Class': {}}\n"
     ]
    }
   ],
   "source": [
    "    print(\"\\nDiccionario:\")\n",
    "    print(german.diccionario)"
   ]
  },
  {
   "cell_type": "markdown",
   "metadata": {},
   "source": [
    "Array **numpy** que almacena los datos con los que trabajaremos."
   ]
  },
  {
   "cell_type": "code",
   "execution_count": 7,
   "metadata": {},
   "outputs": [
    {
     "name": "stdout",
     "output_type": "stream",
     "text": [
      "\n",
      "Datos:\n",
      "[[ 0  6  4 ...  1  0  1]\n",
      " [ 1 48  2 ...  0  0  2]\n",
      " [ 3 12  4 ...  0  0  1]\n",
      " ...\n",
      " [ 3 12  2 ...  0  0  1]\n",
      " [ 0 45  2 ...  1  0  2]\n",
      " [ 1 45  4 ...  0  0  1]]\n"
     ]
    }
   ],
   "source": [
    "    print(\"\\nDatos:\")\n",
    "    print(german.datos)"
   ]
  }
 ],
 "metadata": {
  "kernelspec": {
   "display_name": "Python 3",
   "language": "python",
   "name": "python3"
  },
  "language_info": {
   "codemirror_mode": {
    "name": "ipython",
    "version": 3
   },
   "file_extension": ".py",
   "mimetype": "text/x-python",
   "name": "python",
   "nbconvert_exporter": "python",
   "pygments_lexer": "ipython3",
   "version": "3.7.5"
  }
 },
 "nbformat": 4,
 "nbformat_minor": 4
}
