{
 "cells": [
  {
   "cell_type": "markdown",
   "metadata": {},
   "source": [
    "# Notebook de la práctica 2 de **FAA**."
   ]
  },
  {
   "cell_type": "markdown",
   "metadata": {},
   "source": [
    "**Javier López Cano y Gonzalo Madrigal.** Grupo 1462."
   ]
  },
  {
   "cell_type": "code",
   "execution_count": 1,
   "metadata": {},
   "outputs": [],
   "source": [
    "# -*- coding: utf-8 -*-\n",
    "\n",
    "# coding: utf-8\n",
    "import sklearn\n",
    "from Datos import Datos\n",
    "from sklearn import preprocessing\n",
    "from sklearn.compose import ColumnTransformer\n",
    "from sklearn.neighbors import KNeighborsClassifier\n",
    "from sklearn.linear_model import LogisticRegression, SGDClassifier\n",
    "from sklearn.metrics import accuracy_score\n",
    "import numpy as np\n",
    "from Clasificador import Clasificador, ClasificadorNaiveBayes, ClasificadorVecinosProximos, ClasificadorRegresionLogistica\n",
    "from EstrategiaParticionado import ValidacionSimple, ValidacionCruzada\n",
    "from sklearn.model_selection import train_test_split, cross_val_score\n",
    "from sklearn.preprocessing import OneHotEncoder\n",
    "from IPython.display import HTML, display\n",
    "from sklearn.naive_bayes import GaussianNB, MultinomialNB\n",
    "import matplotlib.pyplot as\t plt\n",
    "\n",
    "from EstrategiaParticionado import EstrategiaParticionado"
   ]
  },
  {
   "cell_type": "markdown",
   "metadata": {},
   "source": [
    "Función para representar gráficamente los valores para la **curva ROC**."
   ]
  },
  {
   "cell_type": "code",
   "execution_count": 2,
   "metadata": {},
   "outputs": [],
   "source": [
    "def repr_grafica(nombre, xlabel, ylabel, num_lines, line_labels, colors, x, y):\n",
    "\tplt.figure()\n",
    "\tlw = 2\n",
    "\tfor i in range(0, num_lines):\n",
    "\t\tplt.plot(x[i], y[i], color=colors[i], lw=lw, label=line_labels[i])\n",
    "\n",
    "\tplt.plot([0, 1], [0, 1], color='navy', lw=lw, linestyle='--')\n",
    "\tplt.xlim([0.0, 1.0])\n",
    "\tplt.ylim([0.0, 1.05])\n",
    "\tplt.xlabel(xlabel)\n",
    "\tplt.ylabel(ylabel)\n",
    "\tplt.title(nombre)\n",
    "\tplt.legend(loc=\"lower right\")\n",
    "\tplt.show()\n",
    "\n"
   ]
  },
  {
   "cell_type": "markdown",
   "metadata": {},
   "source": [
    "Función para sacar los valores **ROC** para la curva."
   ]
  },
  {
   "cell_type": "code",
   "execution_count": 3,
   "metadata": {},
   "outputs": [],
   "source": [
    "\n",
    "def valores_roc(data, pred):\n",
    "\tfp = 0\n",
    "\tfn = 0\n",
    "\ttp = 0\n",
    "\ttn = 0\n",
    "\tfor i in range(0, len(pred)):\n",
    "\t\tif pred[i] == data[i]:\n",
    "\t\t\tif pred[i] == 1:\n",
    "\t\t\t\ttp += 1\n",
    "\t\t\telif pred[i] == 0:\n",
    "\t\t\t\ttn += 1\n",
    "\t\telif pred[i] != data[i]:\n",
    "\t\t\tif pred[i] == 1:\n",
    "\t\t\t\tfp += 1\n",
    "\t\t\telif pred[i] == 0:\n",
    "\t\t\t\tfn += 1\n",
    "\treturn tp, tn, fp, fn\n"
   ]
  },
  {
   "cell_type": "markdown",
   "metadata": {},
   "source": [
    "Procesamos los dos ficheros de datos con los que vamos a trabajar: *diabetes* y *wdbc*."
   ]
  },
  {
   "cell_type": "code",
   "execution_count": 4,
   "metadata": {},
   "outputs": [
    {
     "name": "stdout",
     "output_type": "stream",
     "text": [
      "Diabetes:\n",
      "\n",
      "nominalAtributos:\n",
      "[False, False, False, False, False, False, False, False, True]\n",
      "\n",
      "Diccionario:\n",
      "{'Pregs': {}, 'Plas': {}, 'Pres': {}, 'Skin': {}, 'Test': {}, 'Mass': {}, 'Pedi': {}, 'Age': {}, 'Class': {'0': 0, '1': 1}}\n",
      "\n",
      "Datos:\n",
      "[[  6.    148.     72.    ...   0.627  50.      1.   ]\n",
      " [  1.     85.     66.    ...   0.351  31.      0.   ]\n",
      " [  8.    183.     64.    ...   0.672  32.      1.   ]\n",
      " ...\n",
      " [  5.    121.     72.    ...   0.245  30.      0.   ]\n",
      " [  1.    126.     60.    ...   0.349  47.      1.   ]\n",
      " [  1.     93.     70.    ...   0.315  23.      0.   ]]\n",
      "\n",
      "Validacion Cruzada NB\n",
      "\n",
      "Validando con clasificador propio:\n",
      "Error en partición 0[0.32894736842105265, 0.32894736842105265]\n",
      "Error en partición 1[0.3815789473684211, 0.3815789473684211]\n",
      "Error en partición 2[0.32894736842105265, 0.32894736842105265]\n",
      "Error en partición 3[0.35526315789473684, 0.35526315789473684]\n",
      "Error en partición 4[0.42105263157894735, 0.42105263157894735]\n",
      "Error en partición 5[0.39473684210526316, 0.39473684210526316]\n",
      "Error en partición 6[0.32894736842105265, 0.32894736842105265]\n",
      "Error en partición 7[0.42105263157894735, 0.42105263157894735]\n",
      "Error en partición 8[0.32894736842105265, 0.32894736842105265]\n",
      "Error en partición 9[0.2631578947368421, 0.2631578947368421]\n",
      "\n",
      " Error medio:\n",
      "sin Laplace: 0.35526315789473684\n",
      "con Laplace: 0.35526315789473684\n"
     ]
    }
   ],
   "source": [
    "\n",
    "\tdiabetes = Datos(\"pima-indians-diabetes.data\")\n",
    "\twdbc = Datos(\"wdbc.data\")\n",
    "\t\n",
    "\tprint(\"Diabetes:\\n\")\n",
    "\tprint(\"nominalAtributos:\")\n",
    "\tprint(diabetes.nominalAtributos)\n",
    "\tprint(\"\\nDiccionario:\")\n",
    "\tprint(diabetes.diccionario)\n",
    "\tprint(\"\\nDatos:\")\n",
    "\tprint(diabetes.datos)\n",
    "\n",
    "\tprint(\"\\nValidacion Cruzada NB\")\n",
    "\tprint(\"\\nValidando con clasificador propio:\")\n",
    "\tnb = ClasificadorNaiveBayes()\n",
    "\tvc = ValidacionCruzada()\n",
    "\terror = Clasificador.validacion(vc, diabetes, nb)\n",
    "\tprint(\"\\n Error medio:\")\n",
    "\tprint(\"sin Laplace: \" + str(error[0]))\n",
    "\tprint(\"con Laplace: \" + str(error[1]))\n",
    "\n"
   ]
  },
  {
   "cell_type": "markdown",
   "metadata": {},
   "source": [
    "En esta práctica hemos implementado el método de clasificación **KNN**, que se basa en asignar una clase a un elemento a partir de la de los K elementos más próximos. La elección de este número es clave; una K demasiado pequeña (1) significa que estamos clasificando el elemento mirando únicamente el objeto más cercano, perdiendo así toda la potencia del algoritmo. Una k demasiado grande nos lleva a clasificar el elemento en la clase más numerosa. La elección de una k correcta depende de los datos con los que estemos trabajando.\n",
    "\n",
    "Al tratar los atributos de cada elemento como valores de un vector, los vecinos más próximos cambiarán según el método que elijamos para calcular la distancia. En este caso probaremos con la distancia **euclidea**, la **manhattan** y la **mahalanobis**.\n",
    "\n",
    "Otra cosa a tener en cuenta a la hora de aplicar este método es si asignamos distintos pesos a los vecinos según su proximidad.\n",
    "\n",
    "Lo que vamos a observar es que cuantos más vecinos cojamos, más índice de éxito vamos a obtener. Esto ocurre cuando hay cierto ruido en las nubes de datos. Además vemos que la distancia Mahalanobis funciona ligeramnete peor que las otras dos, por lo tanto, en este caso no ns interesa tener en cuenta la cottrlación como hace **Mahalanobis**."
   ]
  },
  {
   "cell_type": "code",
   "execution_count": 5,
   "metadata": {},
   "outputs": [
    {
     "name": "stdout",
     "output_type": "stream",
     "text": [
      "\n",
      "Validacion Cruzada K-NN\n",
      "\n",
      "Validando con clasificador propio:\n",
      "Error en partición 0[0.39473684210526316, 0.32894736842105265, 0.40789473684210525, 0.3157894736842105, 0.32894736842105265, 0.35526315789473684, 0.34210526315789475, 0.35526315789473684, 0.3815789473684211, 0.35526315789473684, 0.35526315789473684, 0.35526315789473684]\n",
      "Error en partición 1[0.4342105263157895, 0.42105263157894735, 0.4342105263157895, 0.35526315789473684, 0.2631578947368421, 0.32894736842105265, 0.2631578947368421, 0.2631578947368421, 0.32894736842105265, 0.23684210526315788, 0.2894736842105263, 0.3026315789473684]\n",
      "Error en partición 2[0.27631578947368424, 0.2894736842105263, 0.2894736842105263, 0.15789473684210525, 0.17105263157894737, 0.17105263157894737, 0.18421052631578946, 0.17105263157894737, 0.18421052631578946, 0.25, 0.23684210526315788, 0.2236842105263158]\n",
      "Error en partición 3[0.34210526315789475, 0.3026315789473684, 0.35526315789473684, 0.19736842105263158, 0.25, 0.23684210526315788, 0.23684210526315788, 0.19736842105263158, 0.19736842105263158, 0.18421052631578946, 0.19736842105263158, 0.17105263157894737]\n",
      "Error en partición 4[0.2894736842105263, 0.2894736842105263, 0.3026315789473684, 0.2894736842105263, 0.27631578947368424, 0.25, 0.3157894736842105, 0.3157894736842105, 0.3026315789473684, 0.32894736842105265, 0.3157894736842105, 0.3026315789473684]\n",
      "Error en partición 5[0.3684210526315789, 0.3684210526315789, 0.34210526315789475, 0.23684210526315788, 0.23684210526315788, 0.3026315789473684, 0.2631578947368421, 0.23684210526315788, 0.23684210526315788, 0.2631578947368421, 0.27631578947368424, 0.2236842105263158]\n",
      "Error en partición 6[0.32894736842105265, 0.34210526315789475, 0.27631578947368424, 0.21052631578947367, 0.19736842105263158, 0.17105263157894737, 0.17105263157894737, 0.19736842105263158, 0.19736842105263158, 0.19736842105263158, 0.21052631578947367, 0.15789473684210525]\n",
      "Error en partición 7[0.25, 0.27631578947368424, 0.27631578947368424, 0.23684210526315788, 0.2894736842105263, 0.3157894736842105, 0.25, 0.2631578947368421, 0.25, 0.2631578947368421, 0.3026315789473684, 0.27631578947368424]\n",
      "Error en partición 8[0.3157894736842105, 0.3684210526315789, 0.2631578947368421, 0.2236842105263158, 0.19736842105263158, 0.25, 0.2236842105263158, 0.14473684210526316, 0.19736842105263158, 0.21052631578947367, 0.21052631578947367, 0.23684210526315788]\n",
      "Error en partición 9[0.27631578947368424, 0.2894736842105263, 0.3157894736842105, 0.23684210526315788, 0.19736842105263158, 0.23684210526315788, 0.19736842105263158, 0.2236842105263158, 0.23684210526315788, 0.25, 0.23684210526315788, 0.23684210526315788]\n",
      "\n",
      "Error medio k=1\n",
      "euclidea: 0.3276315789473684\n",
      "manhattan: 0.3276315789473684\n",
      "mahalanobis: 0.3263157894736842\n",
      "\n",
      "Error medio k=5\n",
      "euclidea: 0.24605263157894738\n",
      "manhattan: 0.24078947368421053\n",
      "mahalanobis: 0.2618421052631579\n",
      "\n",
      "Error medio k=11\n",
      "euclidea: 0.24473684210526314\n",
      "manhattan: 0.23684210526315796\n",
      "mahalanobis: 0.2513157894736842\n",
      "\n",
      "Error medio k=21\n",
      "euclidea: 0.25394736842105264\n",
      "manhattan: 0.26315789473684215\n",
      "mahalanobis: 0.24868421052631579\n"
     ]
    }
   ],
   "source": [
    "\n",
    "\tprint(\"\\nValidacion Cruzada K-NN\")\n",
    "\tprint(\"\\nValidando con clasificador propio:\")\n",
    "\tknn = ClasificadorVecinosProximos()\n",
    "\tvc = ValidacionCruzada()\n",
    "\terror = Clasificador.validacion(vc, diabetes, knn)\n",
    "\tprint(\"\\nError medio k=1\")\n",
    "\tprint(\"euclidea: \" + str(error[0]))\n",
    "\tprint(\"manhattan: \" + str(error[1]))\n",
    "\tprint(\"mahalanobis: \" + str(error[2]))\n",
    "\tprint(\"\\nError medio k=5\")\n",
    "\tprint(\"euclidea: \" + str(error[3]))\n",
    "\tprint(\"manhattan: \" + str(error[4]))\n",
    "\tprint(\"mahalanobis: \" + str(error[5]))\n",
    "\tprint(\"\\nError medio k=11\")\n",
    "\tprint(\"euclidea: \" + str(error[6]))\n",
    "\tprint(\"manhattan: \" + str(error[7]))\n",
    "\tprint(\"mahalanobis: \" + str(error[8]))\n",
    "\tprint(\"\\nError medio k=21\")\n",
    "\tprint(\"euclidea: \" + str(error[9]))\n",
    "\tprint(\"manhattan: \" + str(error[10]))\n",
    "\tprint(\"mahalanobis: \" + str(error[11]))\n"
   ]
  },
  {
   "cell_type": "markdown",
   "metadata": {},
   "source": [
    "En esta práctica hemos implementado también el clasificador por **regresión logistica**. En este método se ajusta una función de regresión para predecir el valor de una variable dependiente a partir de una serie de valores independientes. Al aplicar este algoritmo se deben tener en cuenta dos cuestiones: la **constante de arendizaje** y el **número de épocas** que vamos a aplicar.\n",
    "\n",
    "La constante de aprendizaje es el tamaño de los \"pasos\" que vamos a dar para aproximar nuestra función logística a la máxima eficacia posible. El número de épocas será el número de pasos que daremos para acercarnos a este punto. \n",
    "\n",
    "Llegará un punto en el que nuestra función no pueda aproximarse más y no mejoremos los resultados con cada época, sino que iremos ajustando y desajustando contínuamente nuestra función."
   ]
  },
  {
   "cell_type": "code",
   "execution_count": 6,
   "metadata": {},
   "outputs": [
    {
     "name": "stdout",
     "output_type": "stream",
     "text": [
      "\n",
      "Validacion Cruzada Regresión Logística\n",
      "\n",
      "Validando con clasificador propio:\n",
      "Error en partición 0[0.4605263157894737]\n",
      "Error en partición 1[0.4868421052631579]\n",
      "Error en partición 2[0.2894736842105263]\n",
      "Error en partición 3[0.3684210526315789]\n",
      "Error en partición 4[0.40789473684210525]\n",
      "Error en partición 5[0.3815789473684211]\n",
      "Error en partición 6[0.2894736842105263]\n",
      "Error en partición 7[0.34210526315789475]\n",
      "Error en partición 8[0.2894736842105263]\n",
      "Error en partición 9[0.5526315789473685]\n",
      "\n",
      " Error medio: [0.38684210526315793]\n"
     ]
    }
   ],
   "source": [
    "\n",
    "\tprint(\"\\nValidacion Cruzada Regresión Logística\")\n",
    "\tprint(\"\\nValidando con clasificador propio:\")\n",
    "\treg = ClasificadorRegresionLogistica()\n",
    "\tvc = ValidacionCruzada()\n",
    "\terror = Clasificador.validacion(vc, diabetes, reg)\n",
    "\tprint(\"\\n Error medio: \" + str(error))\n"
   ]
  },
  {
   "cell_type": "markdown",
   "metadata": {},
   "source": [
    "Probamos nuestras implementaciones con los datos de *wdbc*."
   ]
  },
  {
   "cell_type": "code",
   "execution_count": 7,
   "metadata": {},
   "outputs": [
    {
     "name": "stdout",
     "output_type": "stream",
     "text": [
      "\n",
      "\n",
      "Wdbc:\n",
      "\n",
      "nominalAtributos:\n",
      "[False, False, False, False, False, False, False, False, False, False, False, False, False, False, False, False, False, False, False, False, False, False, False, False, False, False, False, False, False, False, True]\n",
      "\n",
      "Diccionario:\n",
      "{'Atributo1': {}, 'Atributo2': {}, 'Atributo3': {}, 'Atributo4': {}, 'Atributo5': {}, 'Atributo6': {}, 'Atributo7': {}, 'Atributo8': {}, 'Atributo9': {}, 'Atributo10': {}, 'Atributo11': {}, 'Atributo12': {}, 'Atributo13': {}, 'Atributo14': {}, 'Atributo15': {}, 'Atributo16': {}, 'Atributo17': {}, 'Atributo18': {}, 'Atributo19': {}, 'Atributo20': {}, 'Atributo21': {}, 'Atributo22': {}, 'Atributo23': {}, 'Atributo24': {}, 'Atributo25': {}, 'Atributo26': {}, 'Atributo27': {}, 'Atributo28': {}, 'Atributo29': {}, 'Atributo30': {}, 'Class': {'B': 0, 'M': 1}}\n",
      "\n",
      "Datos:\n",
      "[[1.799e+01 1.038e+01 1.228e+02 ... 4.601e-01 1.189e-01 1.000e+00]\n",
      " [2.057e+01 1.777e+01 1.329e+02 ... 2.750e-01 8.902e-02 1.000e+00]\n",
      " [1.969e+01 2.125e+01 1.300e+02 ... 3.613e-01 8.758e-02 1.000e+00]\n",
      " ...\n",
      " [1.660e+01 2.808e+01 1.083e+02 ... 2.218e-01 7.820e-02 1.000e+00]\n",
      " [2.060e+01 2.933e+01 1.401e+02 ... 4.087e-01 1.240e-01 1.000e+00]\n",
      " [7.760e+00 2.454e+01 4.792e+01 ... 2.871e-01 7.039e-02 0.000e+00]]\n",
      "\n",
      "\n",
      "Wdbc:\n",
      "\n",
      "Validacion Cruzada NB\n",
      "\n",
      "Validando con clasificador propio:\n",
      "Error en partición 0[0.35714285714285715, 0.35714285714285715]\n",
      "Error en partición 1[0.35714285714285715, 0.35714285714285715]\n",
      "Error en partición 2[0.39285714285714285, 0.39285714285714285]\n",
      "Error en partición 3[0.375, 0.375]\n",
      "Error en partición 4[0.35714285714285715, 0.35714285714285715]\n",
      "Error en partición 5[0.5357142857142857, 0.5357142857142857]\n",
      "Error en partición 6[0.25, 0.25]\n",
      "Error en partición 7[0.42857142857142855, 0.42857142857142855]\n",
      "Error en partición 8[0.3392857142857143, 0.3392857142857143]\n",
      "Error en partición 9[0.32142857142857145, 0.32142857142857145]\n",
      "\n",
      " Error medio:\n",
      "sin Laplace: 0.37142857142857144\n",
      "con Laplace: 0.37142857142857144\n"
     ]
    }
   ],
   "source": [
    "\n",
    "\tprint(\"\\n\\nWdbc:\\n\")\n",
    "\tprint(\"nominalAtributos:\")\n",
    "\tprint(wdbc.nominalAtributos)\n",
    "\tprint(\"\\nDiccionario:\")\n",
    "\tprint(wdbc.diccionario)\n",
    "\tprint(\"\\nDatos:\")\n",
    "\tprint(wdbc.datos)\n",
    "\n",
    "\tprint(\"\\n\\nWdbc:\")\n",
    "\n",
    "\tprint(\"\\nValidacion Cruzada NB\")\n",
    "\tprint(\"\\nValidando con clasificador propio:\")\n",
    "\tnb = ClasificadorNaiveBayes()\n",
    "\tvc = ValidacionCruzada()\n",
    "\terror = Clasificador.validacion(vc, wdbc, nb)\n",
    "\tprint(\"\\n Error medio:\")\n",
    "\tprint(\"sin Laplace: \" + str(error[0]))\n",
    "\tprint(\"con Laplace: \" + str(error[1]))\n"
   ]
  },
  {
   "cell_type": "code",
   "execution_count": 8,
   "metadata": {},
   "outputs": [
    {
     "name": "stdout",
     "output_type": "stream",
     "text": [
      "\n",
      "Validacion Cruzada K-NN\n",
      "\n",
      "Validando con clasificador propio:\n",
      "Error en partición 0[0.05357142857142857, 0.05357142857142857, 0.23214285714285715, 0.07142857142857142, 0.05357142857142857, 0.26785714285714285, 0.03571428571428571, 0.07142857142857142, 0.30357142857142855, 0.07142857142857142, 0.08928571428571429, 0.32142857142857145]\n",
      "Error en partición 1[0.017857142857142856, 0.017857142857142856, 0.14285714285714285, 0.05357142857142857, 0.03571428571428571, 0.23214285714285715, 0.03571428571428571, 0.05357142857142857, 0.26785714285714285, 0.07142857142857142, 0.07142857142857142, 0.32142857142857145]\n",
      "Error en partición 2[0.08928571428571429, 0.10714285714285714, 0.17857142857142858, 0.08928571428571429, 0.08928571428571429, 0.25, 0.08928571428571429, 0.08928571428571429, 0.2857142857142857, 0.10714285714285714, 0.08928571428571429, 0.3392857142857143]\n",
      "Error en partición 3[0.03571428571428571, 0.07142857142857142, 0.125, 0.017857142857142856, 0.017857142857142856, 0.16071428571428573, 0.03571428571428571, 0.03571428571428571, 0.125, 0.017857142857142856, 0.017857142857142856, 0.23214285714285715]\n",
      "Error en partición 4[0.017857142857142856, 0.017857142857142856, 0.16071428571428573, 0.017857142857142856, 0.017857142857142856, 0.19642857142857142, 0.017857142857142856, 0.017857142857142856, 0.16071428571428573, 0.017857142857142856, 0.03571428571428571, 0.26785714285714285]\n",
      "Error en partición 5[0.05357142857142857, 0.03571428571428571, 0.23214285714285715, 0.017857142857142856, 0.03571428571428571, 0.25, 0.03571428571428571, 0.03571428571428571, 0.25, 0.03571428571428571, 0.03571428571428571, 0.26785714285714285]\n",
      "Error en partición 6[0.017857142857142856, 0.0, 0.125, 0.0, 0.0, 0.19642857142857142, 0.017857142857142856, 0.017857142857142856, 0.17857142857142858, 0.017857142857142856, 0.017857142857142856, 0.19642857142857142]\n",
      "Error en partición 7[0.03571428571428571, 0.07142857142857142, 0.21428571428571427, 0.05357142857142857, 0.03571428571428571, 0.25, 0.03571428571428571, 0.03571428571428571, 0.30357142857142855, 0.03571428571428571, 0.03571428571428571, 0.32142857142857145]\n",
      "Error en partición 8[0.07142857142857142, 0.05357142857142857, 0.16071428571428573, 0.017857142857142856, 0.03571428571428571, 0.17857142857142858, 0.03571428571428571, 0.017857142857142856, 0.23214285714285715, 0.03571428571428571, 0.03571428571428571, 0.32142857142857145]\n",
      "Error en partición 9[0.05357142857142857, 0.05357142857142857, 0.16071428571428573, 0.05357142857142857, 0.05357142857142857, 0.16071428571428573, 0.03571428571428571, 0.05357142857142857, 0.23214285714285715, 0.03571428571428571, 0.03571428571428571, 0.30357142857142855]\n",
      "\n",
      "Error medio k=1\n",
      "euclidea: 0.04464285714285714\n",
      "manhattan: 0.04821428571428571\n",
      "mahalanobis: 0.1732142857142857\n",
      "\n",
      "Error medio k=5\n",
      "euclidea: 0.03928571428571428\n",
      "manhattan: 0.03749999999999999\n",
      "mahalanobis: 0.21428571428571427\n",
      "\n",
      "Error medio k=11\n",
      "euclidea: 0.03749999999999999\n",
      "manhattan: 0.04285714285714285\n",
      "mahalanobis: 0.23392857142857143\n",
      "\n",
      "Error medio k=21\n",
      "euclidea: 0.04464285714285714\n",
      "manhattan: 0.046428571428571416\n",
      "mahalanobis: 0.28928571428571426\n"
     ]
    }
   ],
   "source": [
    "\tprint(\"\\nValidacion Cruzada K-NN\")\n",
    "\tprint(\"\\nValidando con clasificador propio:\")\n",
    "\tknn = ClasificadorVecinosProximos()\n",
    "\tvc = ValidacionCruzada()\n",
    "\terror = Clasificador.validacion(vc, wdbc, knn)\n",
    "\tprint(\"\\nError medio k=1\")\n",
    "\tprint(\"euclidea: \" + str(error[0]))\n",
    "\tprint(\"manhattan: \" + str(error[1]))\n",
    "\tprint(\"mahalanobis: \" + str(error[2]))\n",
    "\tprint(\"\\nError medio k=5\")\n",
    "\tprint(\"euclidea: \" + str(error[3]))\n",
    "\tprint(\"manhattan: \" + str(error[4]))\n",
    "\tprint(\"mahalanobis: \" + str(error[5]))\n",
    "\tprint(\"\\nError medio k=11\")\n",
    "\tprint(\"euclidea: \" + str(error[6]))\n",
    "\tprint(\"manhattan: \" + str(error[7]))\n",
    "\tprint(\"mahalanobis: \" + str(error[8]))\n",
    "\tprint(\"\\nError medio k=21\")\n",
    "\tprint(\"euclidea: \" + str(error[9]))\n",
    "\tprint(\"manhattan: \" + str(error[10]))\n",
    "\tprint(\"mahalanobis: \" + str(error[11]))"
   ]
  },
  {
   "cell_type": "code",
   "execution_count": 9,
   "metadata": {},
   "outputs": [
    {
     "name": "stdout",
     "output_type": "stream",
     "text": [
      "\n",
      "Validacion Cruzada Regresión Logística\n",
      "\n",
      "Validando con clasificador propio:\n",
      "Error en partición 0[0.25]\n",
      "Error en partición 1[0.07142857142857142]\n",
      "Error en partición 2[0.017857142857142856]\n",
      "Error en partición 3[0.05357142857142857]\n",
      "Error en partición 4[0.08928571428571429]\n",
      "Error en partición 5[0.14285714285714285]\n",
      "Error en partición 6[0.017857142857142856]\n",
      "Error en partición 7[0.14285714285714285]\n",
      "Error en partición 8[0.10714285714285714]\n",
      "Error en partición 9[0.14285714285714285]\n",
      "\n",
      "Error medio: [0.10357142857142858]\n"
     ]
    }
   ],
   "source": [
    "\tprint(\"\\nValidacion Cruzada Regresión Logística\")\n",
    "\tprint(\"\\nValidando con clasificador propio:\")\n",
    "\treg = ClasificadorRegresionLogistica()\n",
    "\tvc = ValidacionCruzada()\n",
    "\terror = Clasificador.validacion(vc, wdbc, reg)\n",
    "\tprint(\"\\nError medio: \" + str(error))\n"
   ]
  },
  {
   "cell_type": "markdown",
   "metadata": {},
   "source": [
    "A continuación probamos la versión de **sklearn** de los algoritmos implementados para comparar rendimiento y resultados."
   ]
  },
  {
   "cell_type": "code",
   "execution_count": 10,
   "metadata": {},
   "outputs": [],
   "source": [
    "\t# SKLEARN\n",
    "\n",
    "\tX = diabetes.datos[:, :-1]\n",
    "\tY = diabetes.datos[:, -1]\n",
    "\tx = np.transpose(X)\n",
    "\n",
    "\tX2 = wdbc.datos[:, :-1]\n",
    "\tY2 = wdbc.datos[:, -1]\n",
    "\tx2 = np.transpose(X2)\n",
    "\t"
   ]
  },
  {
   "cell_type": "code",
   "execution_count": 11,
   "metadata": {},
   "outputs": [
    {
     "name": "stdout",
     "output_type": "stream",
     "text": [
      "\n",
      "\n",
      "Diabetes:\n",
      "************Knn SKLEARN************\n",
      "\n",
      "\n",
      "K = 1\n",
      "\n",
      "Error medio sklearn euclidean: 0.32033492822966514\n",
      "Desviación media del error sklearn euclidean: 0.0558822618136192\n"
     ]
    }
   ],
   "source": [
    "\tprint(\"\\n\\nDiabetes:\")\n",
    "\t\n",
    "\t####################################################################################################################\n",
    "\tprint(\"************Knn SKLEARN************\\n\")\n",
    "\tprint(\"\\nK = 1\\n\")\n",
    "\tclf = KNeighborsClassifier(n_neighbors=1, p=2, metric='euclidean')\n",
    "\tscore = cross_val_score(clf, X, Y, cv=10, n_jobs=-1)\n",
    "\terror_media_sk = 1 - score.mean()\n",
    "\terror_std_sk = score.std()\n",
    "\tprint(\"Error medio sklearn euclidean: \" + str(error_media_sk))\n",
    "\tprint(\"Desviación media del error sklearn euclidean: \" + str(error_std_sk))"
   ]
  },
  {
   "cell_type": "code",
   "execution_count": 12,
   "metadata": {},
   "outputs": [
    {
     "name": "stdout",
     "output_type": "stream",
     "text": [
      "Error medio sklearn manhattan: 0.3034347231715653\n",
      "Desviación media del error sklearn manhattan: 0.060348798218458996\n"
     ]
    }
   ],
   "source": [
    "\n",
    "\tclfM = KNeighborsClassifier(n_neighbors=1, p=2, metric='manhattan')\n",
    "\tscoreM = cross_val_score(clfM, X, Y, cv=10, n_jobs=-1)\n",
    "\terror_media_skM = 1 - scoreM.mean()\n",
    "\terror_std_skM = scoreM.std()\n",
    "\tprint(\"Error medio sklearn manhattan: \" + str(error_media_skM))\n",
    "\tprint(\"Desviación media del error sklearn manhattan: \" + str(error_std_skM))"
   ]
  },
  {
   "cell_type": "code",
   "execution_count": 13,
   "metadata": {},
   "outputs": [
    {
     "name": "stdout",
     "output_type": "stream",
     "text": [
      "Error medio sklearn mahalanobis: 0.30080314422419696\n",
      "Desviación media del error sklearn mahalanobis: 0.036193226592899995\n"
     ]
    }
   ],
   "source": [
    "\n",
    "\tclfMahalan = KNeighborsClassifier(n_neighbors=1, p=2, metric='mahalanobis', metric_params={'V': np.cov(x)})\n",
    "\tscoreMahalan = cross_val_score(clfMahalan, X, Y, cv=10, n_jobs=-1)\n",
    "\terror_media_skMahalan = 1 - scoreMahalan.mean()\n",
    "\terror_std_skMahalan = scoreMahalan.std()\n",
    "\tprint(\"Error medio sklearn mahalanobis: \" + str(error_media_skMahalan))\n",
    "\tprint(\"Desviación media del error sklearn mahalanobis: \" + str(error_std_skMahalan))"
   ]
  },
  {
   "cell_type": "code",
   "execution_count": 14,
   "metadata": {},
   "outputs": [
    {
     "name": "stdout",
     "output_type": "stream",
     "text": [
      "\n",
      "K = 3\n",
      "\n",
      "Error medio sklearn euclidean: 0.29694121667805873\n",
      "Desviación media del error sklearn euclidean: 0.037633581489763236\n"
     ]
    }
   ],
   "source": [
    "\tprint(\"\\nK = 3\\n\")\n",
    "\tclf3 = KNeighborsClassifier(n_neighbors=3, p=2, metric='euclidean')\n",
    "\tscore3 = cross_val_score(clf3, X, Y, cv=10, n_jobs=-1)\n",
    "\terror_media_sk3 = 1 - score3.mean()\n",
    "\terror_std_sk3 = score3.std()\n",
    "\tprint(\"Error medio sklearn euclidean: \" + str(error_media_sk3))\n",
    "\tprint(\"Desviación media del error sklearn euclidean: \" + str(error_std_sk3))"
   ]
  },
  {
   "cell_type": "code",
   "execution_count": 15,
   "metadata": {},
   "outputs": [
    {
     "name": "stdout",
     "output_type": "stream",
     "text": [
      "Error medio sklearn manhattan: 0.3046992481203008\n",
      "Desviación media del error sklearn manhattan: 0.04480195236634037\n"
     ]
    }
   ],
   "source": [
    "\n",
    "\tclf3M = KNeighborsClassifier(n_neighbors=3, p=2, metric='manhattan')\n",
    "\tscore3M = cross_val_score(clf3M, X, Y, cv=10, n_jobs=-1)\n",
    "\terror_media_sk3M = 1 - score3M.mean()\n",
    "\terror_std_sk3M = score3M.std()\n",
    "\tprint(\"Error medio sklearn manhattan: \" + str(error_media_sk3M))\n",
    "\tprint(\"Desviación media del error sklearn manhattan: \" + str(error_std_sk3M))\n"
   ]
  },
  {
   "cell_type": "code",
   "execution_count": 16,
   "metadata": {},
   "outputs": [
    {
     "name": "stdout",
     "output_type": "stream",
     "text": [
      "Error medio sklearn mahalanobis: 0.2721462747778538\n",
      "Desviación media del error sklearn mahalanobis: 0.0489354255249716\n"
     ]
    }
   ],
   "source": [
    "\tclf3Mahalan = KNeighborsClassifier(n_neighbors=3, p=2, metric='mahalanobis', metric_params={'V':np.cov(x)})\n",
    "\tscore3Mahalan = cross_val_score(clf3Mahalan, X, Y, cv=10, n_jobs=-1)\n",
    "\terror_media_sk3Mahalan = 1 - score3Mahalan.mean()\n",
    "\terror_std_sk3Mahalan = score3Mahalan.std()\n",
    "\tprint(\"Error medio sklearn mahalanobis: \" + str(error_media_sk3Mahalan))\n",
    "\tprint(\"Desviación media del error sklearn mahalanobis: \" + str(error_std_sk3Mahalan))"
   ]
  },
  {
   "cell_type": "code",
   "execution_count": 17,
   "metadata": {},
   "outputs": [
    {
     "name": "stdout",
     "output_type": "stream",
     "text": [
      "\n",
      "K = 5\n",
      "\n",
      "Error medio sklearn euclidean: 0.2786226930963773\n",
      "Desviación media del error sklearn euclidean: 0.04416817250533367\n"
     ]
    }
   ],
   "source": [
    "\tprint(\"\\nK = 5\\n\")\n",
    "\tclf5 = KNeighborsClassifier(n_neighbors=5, p=2, metric='euclidean')\n",
    "\tscore5 = cross_val_score(clf5, X, Y, cv=10, n_jobs=-1)\n",
    "\terror_media_sk5 = 1 - score5.mean()\n",
    "\terror_std_sk5 = score5.std()\n",
    "\tprint(\"Error medio sklearn euclidean: \" + str(error_media_sk5))\n",
    "\tprint(\"Desviación media del error sklearn euclidean: \" + str(error_std_sk5))"
   ]
  },
  {
   "cell_type": "code",
   "execution_count": 18,
   "metadata": {},
   "outputs": [
    {
     "name": "stdout",
     "output_type": "stream",
     "text": [
      "Error medio sklearn manhattan: 0.27219753930280244\n",
      "Desviación media del error sklearn manhattan: 0.03829478314215818\n"
     ]
    }
   ],
   "source": [
    "\tclf5M = KNeighborsClassifier(n_neighbors=5, p=2, metric='manhattan')\n",
    "\tscore5M = cross_val_score(clf5M, X, Y, cv=10, n_jobs=-1)\n",
    "\terror_media_sk5M = 1 - score5M.mean()\n",
    "\terror_std_sk5M = score5M.std()\n",
    "\tprint(\"Error medio sklearn manhattan: \" + str(error_media_sk5M))\n",
    "\tprint(\"Desviación media del error sklearn manhattan: \" + str(error_std_sk5M))"
   ]
  },
  {
   "cell_type": "code",
   "execution_count": 19,
   "metadata": {},
   "outputs": [
    {
     "name": "stdout",
     "output_type": "stream",
     "text": [
      "Error medio sklearn mahalanobis: 0.25391319207108665\n",
      "Desviación media del error sklearn mahalanobis: 0.03911754982712483\n"
     ]
    }
   ],
   "source": [
    "\n",
    "\tclf5Mahalan = KNeighborsClassifier(n_neighbors=5, p=2, metric='mahalanobis', metric_params={'V': np.cov(x)})\n",
    "\tscore5Mahalan = cross_val_score(clf5Mahalan, X, Y, cv=10, n_jobs=-1)\n",
    "\terror_media_sk5Mahalan = 1 - score5Mahalan.mean()\n",
    "\terror_std_sk5Mahalan = score5Mahalan.std()\n",
    "\tprint(\"Error medio sklearn mahalanobis: \" + str(error_media_sk5Mahalan))\n",
    "\tprint(\"Desviación media del error sklearn mahalanobis: \" + str(error_std_sk5Mahalan))"
   ]
  },
  {
   "cell_type": "code",
   "execution_count": 20,
   "metadata": {},
   "outputs": [
    {
     "name": "stdout",
     "output_type": "stream",
     "text": [
      "\n",
      "K = 11\n",
      "\n",
      "Error medio sklearn euclidean: 0.26305536568694454\n",
      "Desviación media del error sklearn euclidean: 0.04434762994630271\n"
     ]
    }
   ],
   "source": [
    "\tprint(\"\\nK = 11\\n\")\n",
    "\tclf11 = KNeighborsClassifier(n_neighbors=11, p=2, metric='euclidean')\n",
    "\tscore11 = cross_val_score(clf11, X, Y, cv=10, n_jobs=-1)\n",
    "\terror_media_sk11 = 1 - score11.mean()\n",
    "\terror_std_sk11 = score11.std()\n",
    "\tprint(\"Error medio sklearn euclidean: \" + str(error_media_sk11))\n",
    "\tprint(\"Desviación media del error sklearn euclidean: \" + str(error_std_sk11))"
   ]
  },
  {
   "cell_type": "code",
   "execution_count": 21,
   "metadata": {},
   "outputs": [
    {
     "name": "stdout",
     "output_type": "stream",
     "text": [
      "Error medio sklearn manhattan: 0.2603896103896104\n",
      "Desviación media del error sklearn manhattan: 0.029941466999816774\n"
     ]
    }
   ],
   "source": [
    "\tclf11M = KNeighborsClassifier(n_neighbors=11, p=2, metric='manhattan')\n",
    "\tscore11M = cross_val_score(clf11M, X, Y, cv=10, n_jobs=-1)\n",
    "\terror_media_sk11M = 1 - score11M.mean()\n",
    "\terror_std_sk11M = score11M.std()\n",
    "\tprint(\"Error medio sklearn manhattan: \" + str(error_media_sk11M))\n",
    "\tprint(\"Desviación media del error sklearn manhattan: \" + str(error_std_sk11M))"
   ]
  },
  {
   "cell_type": "code",
   "execution_count": 22,
   "metadata": {},
   "outputs": [
    {
     "name": "stdout",
     "output_type": "stream",
     "text": [
      "Error medio sklearn mahalanobis: 0.26170539986329455\n",
      "Desviación media del error sklearn mahalanobis: 0.04849955516065419\n"
     ]
    }
   ],
   "source": [
    "\tclf11Mahalan = KNeighborsClassifier(n_neighbors=11, p=2, metric='mahalanobis', metric_params={'V': np.cov(x)})\n",
    "\tscore11Mahalan = cross_val_score(clf11Mahalan, X, Y, cv=10, n_jobs=-1)\n",
    "\terror_media_sk11Mahalan = 1 - score11Mahalan.mean()\n",
    "\terror_std_sk11Mahalan = score11Mahalan.std()\n",
    "\tprint(\"Error medio sklearn mahalanobis: \" + str(error_media_sk11Mahalan))\n",
    "\tprint(\"Desviación media del error sklearn mahalanobis: \" + str(error_std_sk11Mahalan))\n"
   ]
  },
  {
   "cell_type": "code",
   "execution_count": 23,
   "metadata": {},
   "outputs": [
    {
     "name": "stdout",
     "output_type": "stream",
     "text": [
      "\n",
      "K = 21\n",
      "\n",
      "Error medio sklearn euclidean: 0.24993164730006845\n",
      "Desviación media del error sklearn euclidean: 0.05777740153341649\n"
     ]
    }
   ],
   "source": [
    "\tprint(\"\\nK = 21\\n\")\n",
    "\tclf21 = KNeighborsClassifier(n_neighbors=21, p=2, metric='euclidean')\n",
    "\tscore21 = cross_val_score(clf21, X, Y, cv=10, n_jobs=-1)\n",
    "\terror_media_sk21 = 1 - score21.mean()\n",
    "\terror_std_sk21 = score21.std()\n",
    "\tprint(\"Error medio sklearn euclidean: \" + str(error_media_sk21))\n",
    "\tprint(\"Desviación media del error sklearn euclidean: \" + str(error_std_sk21))"
   ]
  },
  {
   "cell_type": "code",
   "execution_count": 24,
   "metadata": {},
   "outputs": [
    {
     "name": "stdout",
     "output_type": "stream",
     "text": [
      "Error medio sklearn manhattan: 0.24598427887901564\n",
      "Desviación media del error sklearn manhattan: 0.060151601712639266\n"
     ]
    }
   ],
   "source": [
    "\tclf21M = KNeighborsClassifier(n_neighbors=21, p=2, metric='manhattan')\n",
    "\tscore21M = cross_val_score(clf21M, X, Y, cv=10, n_jobs=-1)\n",
    "\terror_media_sk21M = 1 - score21M.mean()\n",
    "\terror_std_sk21M = score21M.std()\n",
    "\tprint(\"Error medio sklearn manhattan: \" + str(error_media_sk21M))\n",
    "\tprint(\"Desviación media del error sklearn manhattan: \" + str(error_std_sk21M))"
   ]
  },
  {
   "cell_type": "code",
   "execution_count": 25,
   "metadata": {},
   "outputs": [
    {
     "name": "stdout",
     "output_type": "stream",
     "text": [
      "Error medio sklearn mahalanobis: 0.2591592617908408\n",
      "Desviación media del error sklearn mahalanobis: 0.055730048379390586\n"
     ]
    }
   ],
   "source": [
    "\tclf21Mahalan = KNeighborsClassifier(n_neighbors=21, p=2, metric='mahalanobis', metric_params={'V': np.cov(x)})\n",
    "\tscore21Mahalan = cross_val_score(clf21Mahalan, X, Y, cv=10, n_jobs=-1)\n",
    "\terror_media_sk21Mahalan = 1 - score21Mahalan.mean()\n",
    "\terror_std_sk21Mahalan = score21Mahalan.std()\n",
    "\tprint(\"Error medio sklearn mahalanobis: \" + str(error_media_sk21Mahalan))\n",
    "\tprint(\"Desviación media del error sklearn mahalanobis: \" + str(error_std_sk21Mahalan))"
   ]
  },
  {
   "cell_type": "code",
   "execution_count": 26,
   "metadata": {},
   "outputs": [],
   "source": [
    "salida = \"<table><tr><th>K</th><th>Mahalanobis</th><th>Euclidean</th><th>Manhattan</th></tr><tr><td>1</td>\"\n",
    "salida += \"<td>%f</td>\" % (error_media_skMahalan)\n",
    "salida += \"<td>%f</td>\" % (error_media_sk)\n",
    "salida += \"<td>%f</td>\" % (error_media_skM)\n",
    "salida += \"</tr>\" \n",
    "salida += \"<tr><td>3</td>\"\n",
    "salida += \"<td>%f</td>\" % (error_media_sk3Mahalan)\n",
    "salida += \"<td>%f</td>\" % (error_media_sk3)\n",
    "salida += \"<td>%f</td>\" % (error_media_sk3M)\n",
    "salida += \"<tr><td>5</td>\"\n",
    "salida += \"<td>%f</td>\" % (error_media_sk5Mahalan)\n",
    "salida += \"<td>%f</td>\" % (error_media_sk5)\n",
    "salida += \"<td>%f</td>\" % (error_media_sk5M)\n",
    "salida += \"<tr><td>11</td>\"\n",
    "salida += \"<td>%f</td>\" % (error_media_sk11Mahalan)\n",
    "salida += \"<td>%f</td>\" % (error_media_sk11)\n",
    "salida += \"<td>%f</td>\" % (error_media_sk11M)\n",
    "salida += \"<tr><td>21</td>\"\n",
    "salida += \"<td>%f</td>\" % (error_media_sk21Mahalan)\n",
    "salida += \"<td>%f</td>\" % (error_media_sk21)\n",
    "salida += \"<td>%f</td>\" % (error_media_sk21M)"
   ]
  },
  {
   "cell_type": "markdown",
   "metadata": {},
   "source": [
    "**Tabla comparación distancias sklearn** "
   ]
  },
  {
   "cell_type": "code",
   "execution_count": 27,
   "metadata": {},
   "outputs": [
    {
     "data": {
      "text/html": [
       "<table><tr><th>K</th><th>Mahalanobis</th><th>Euclidean</th><th>Manhattan</th></tr><tr><td>1</td><td>0.300803</td><td>0.320335</td><td>0.303435</td></tr><tr><td>3</td><td>0.272146</td><td>0.296941</td><td>0.304699</td><tr><td>5</td><td>0.253913</td><td>0.278623</td><td>0.272198</td><tr><td>11</td><td>0.261705</td><td>0.263055</td><td>0.260390</td><tr><td>21</td><td>0.259159</td><td>0.249932</td><td>0.245984</td>"
      ],
      "text/plain": [
       "<IPython.core.display.HTML object>"
      ]
     },
     "metadata": {},
     "output_type": "display_data"
    }
   ],
   "source": [
    "display(HTML(salida))"
   ]
  },
  {
   "cell_type": "markdown",
   "metadata": {},
   "source": [
    "Como podemos observar, los resultados obtenidos de KNeighborsClassifier de sklearn da resultados muy parecidos a nuestra implementación del algoritmo para cada valor de K:"
   ]
  },
  {
   "cell_type": "code",
   "execution_count": 28,
   "metadata": {},
   "outputs": [
    {
     "name": "stdout",
     "output_type": "stream",
     "text": [
      "\n",
      "*************** Regresión Logística ***************\n",
      "\n",
      "LogisticRegression\n",
      "Error medio LogisticRegression: 0.22652084757347912\n",
      "Desviación media del error LogisticRegression: 0.03574821701310119\n",
      "\n",
      "SGDClassifier\n",
      "Error medio SGDClassifier: 0.39958988380041016\n",
      "Desviación media del error SGDClassifier: 0.10327186488903244\n"
     ]
    }
   ],
   "source": [
    "\tprint(\"\\n*************** Regresión Logística ***************\")\n",
    "\tprint(\"\\nLogisticRegression\")\n",
    "\tclfRL = LogisticRegression(max_iter=1000, fit_intercept=1)\n",
    "\tscoreRL = cross_val_score(clfRL, X, Y, cv=10, n_jobs=-1)\n",
    "\terror_media_skRL = 1 - scoreRL.mean()\n",
    "\terror_std_skRL = scoreRL.std()\n",
    "\n",
    "\tprint(\"Error medio LogisticRegression: \" + str(error_media_skRL))\n",
    "\tprint(\"Desviación media del error LogisticRegression: \" + str(error_std_skRL))\n",
    "\n",
    "\tprint(\"\\nSGDClassifier\")\n",
    "\n",
    "\tclfSGDC = SGDClassifier(max_iter=100, learning_rate='constant', eta0=1)\n",
    "\tscoreSGDC = cross_val_score(clfSGDC, X, Y, cv=10, n_jobs=-1)\n",
    "\terror_media_skSGDC = 1 - scoreSGDC.mean()\n",
    "\terror_std_skSGDC = scoreSGDC.std()\n",
    "\n",
    "\tprint(\"Error medio SGDClassifier: \" + str(error_media_skSGDC))\n",
    "\tprint(\"Desviación media del error SGDClassifier: \" + str(error_std_skSGDC))\n",
    "\t"
   ]
  },
  {
   "cell_type": "markdown",
   "metadata": {},
   "source": [
    "Probando los dos métodos de sklearn para la regresión logística, observamos que en este caso **LogisticRegression** funciona mucho mejor que **SGDCClassifier** y que nuestra implementación. Más tarde podremos comprobar que esto se debe a la naturaleza de los datos con los que estamos trabajando. SGDC, en general, no tiene tanto acierto como LogisticRegression, sin embargo puede ser mucho menos costoso y en datasets de gran tamaño puede ser muy beneficioso utilizarlo."
   ]
  },
  {
   "cell_type": "code",
   "execution_count": 29,
   "metadata": {},
   "outputs": [
    {
     "name": "stdout",
     "output_type": "stream",
     "text": [
      "Wdbc:\n",
      "\n",
      "nominalAtributos:\n",
      "[False, False, False, False, False, False, False, False, False, False, False, False, False, False, False, False, False, False, False, False, False, False, False, False, False, False, False, False, False, False, True]\n",
      "\n",
      "Diccionario:\n",
      "{'Atributo1': {}, 'Atributo2': {}, 'Atributo3': {}, 'Atributo4': {}, 'Atributo5': {}, 'Atributo6': {}, 'Atributo7': {}, 'Atributo8': {}, 'Atributo9': {}, 'Atributo10': {}, 'Atributo11': {}, 'Atributo12': {}, 'Atributo13': {}, 'Atributo14': {}, 'Atributo15': {}, 'Atributo16': {}, 'Atributo17': {}, 'Atributo18': {}, 'Atributo19': {}, 'Atributo20': {}, 'Atributo21': {}, 'Atributo22': {}, 'Atributo23': {}, 'Atributo24': {}, 'Atributo25': {}, 'Atributo26': {}, 'Atributo27': {}, 'Atributo28': {}, 'Atributo29': {}, 'Atributo30': {}, 'Class': {'B': 0, 'M': 1}}\n",
      "\n",
      "Datos:\n",
      "[[1.799e+01 1.038e+01 1.228e+02 ... 4.601e-01 1.189e-01 1.000e+00]\n",
      " [2.057e+01 1.777e+01 1.329e+02 ... 2.750e-01 8.902e-02 1.000e+00]\n",
      " [1.969e+01 2.125e+01 1.300e+02 ... 3.613e-01 8.758e-02 1.000e+00]\n",
      " ...\n",
      " [1.660e+01 2.808e+01 1.083e+02 ... 2.218e-01 7.820e-02 1.000e+00]\n",
      " [2.060e+01 2.933e+01 1.401e+02 ... 4.087e-01 1.240e-01 1.000e+00]\n",
      " [7.760e+00 2.454e+01 4.792e+01 ... 2.871e-01 7.039e-02 0.000e+00]]\n"
     ]
    }
   ],
   "source": [
    "\t\n",
    "\tprint(\"Wdbc:\\n\")\n",
    "\tprint(\"nominalAtributos:\")\n",
    "\tprint(wdbc.nominalAtributos)\n",
    "\tprint(\"\\nDiccionario:\")\n",
    "\tprint(wdbc.diccionario)\n",
    "\tprint(\"\\nDatos:\")\n",
    "\tprint(wdbc.datos)"
   ]
  },
  {
   "cell_type": "code",
   "execution_count": 30,
   "metadata": {},
   "outputs": [
    {
     "name": "stdout",
     "output_type": "stream",
     "text": [
      "************Knn SKLEARN************\n",
      "\n",
      "\n",
      "K = 1\n",
      "\n",
      "Error medio sklearn euclidean: 0.0843045112781955\n",
      "Desviación media del error sklearn euclidean: 0.030086428167942682\n"
     ]
    }
   ],
   "source": [
    "\tprint(\"************Knn SKLEARN************\\n\")\n",
    "\tprint(\"\\nK = 1\\n\")\n",
    "\tclf = KNeighborsClassifier(n_neighbors=1, p=2, metric='euclidean')\n",
    "\tscore = cross_val_score(clf, X2, Y2, cv=10, n_jobs=-1)\n",
    "\terror_media_sk = 1 - score.mean()\n",
    "\terror_std_sk = score.std()\n",
    "\tprint(\"Error medio sklearn euclidean: \" + str(error_media_sk))\n",
    "\tprint(\"Desviación media del error sklearn euclidean: \" + str(error_std_sk))"
   ]
  },
  {
   "cell_type": "code",
   "execution_count": 31,
   "metadata": {},
   "outputs": [
    {
     "name": "stdout",
     "output_type": "stream",
     "text": [
      "Error medio sklearn manhattan: 0.07202380952380971\n",
      "Desviación media del error sklearn manhattan: 0.024045154611790253\n"
     ]
    }
   ],
   "source": [
    "\tclfM = KNeighborsClassifier(n_neighbors=1, p=2, metric='manhattan')\n",
    "\tscoreM = cross_val_score(clfM, X2, Y2, cv=10, n_jobs=-1)\n",
    "\terror_media_skM = 1 - scoreM.mean()\n",
    "\terror_std_skM = scoreM.std()\n",
    "\tprint(\"Error medio sklearn manhattan: \" + str(error_media_skM))\n",
    "\tprint(\"Desviación media del error sklearn manhattan: \" + str(error_std_skM))"
   ]
  },
  {
   "cell_type": "code",
   "execution_count": 32,
   "metadata": {},
   "outputs": [
    {
     "name": "stdout",
     "output_type": "stream",
     "text": [
      "Error medio sklearn mahalanobis: 0.17221177944862165\n",
      "Desviación media del error sklearn mahalanobis: 0.038979796566438435\n"
     ]
    }
   ],
   "source": [
    "\n",
    "\tclfMahalan = KNeighborsClassifier(n_neighbors=1, p=2, metric='mahalanobis', metric_params={'V': np.cov(x2)})\n",
    "\tscoreMahalan = cross_val_score(clfMahalan, X2, Y2, cv=10, n_jobs=-1)\n",
    "\terror_media_skMahalan = 1 - scoreMahalan.mean()\n",
    "\terror_std_skMahalan = scoreMahalan.std()\n",
    "\tprint(\"Error medio sklearn mahalanobis: \" + str(error_media_skMahalan))\n",
    "\tprint(\"Desviación media del error sklearn mahalanobis: \" + str(error_std_skMahalan))"
   ]
  },
  {
   "cell_type": "code",
   "execution_count": 33,
   "metadata": {},
   "outputs": [
    {
     "name": "stdout",
     "output_type": "stream",
     "text": [
      "\n",
      "K = 3\n",
      "\n",
      "Error medio sklearn euclidean: 0.07380952380952388\n",
      "Desviación media del error sklearn euclidean: 0.03017136876275684\n"
     ]
    }
   ],
   "source": [
    "\tprint(\"\\nK = 3\\n\")\n",
    "\tclf3 = KNeighborsClassifier(n_neighbors=3, p=2, metric='euclidean')\n",
    "\tscore3 = cross_val_score(clf3, X2, Y2, cv=10, n_jobs=-1)\n",
    "\terror_media_sk3 = 1 - score3.mean()\n",
    "\terror_std_sk3 = score3.std()\n",
    "\tprint(\"Error medio sklearn euclidean: \" + str(error_media_sk3))\n",
    "\tprint(\"Desviación media del error sklearn euclidean: \" + str(error_std_sk3))"
   ]
  },
  {
   "cell_type": "code",
   "execution_count": 34,
   "metadata": {},
   "outputs": [
    {
     "name": "stdout",
     "output_type": "stream",
     "text": [
      "Error medio sklearn manhattan: 0.06325187969924817\n",
      "Desviación media del error sklearn manhattan: 0.023757713878340043\n"
     ]
    }
   ],
   "source": [
    "\tclf3M = KNeighborsClassifier(n_neighbors=3, p=2, metric='manhattan')\n",
    "\tscore3M = cross_val_score(clf3M, X2, Y2, cv=10, n_jobs=-1)\n",
    "\terror_media_sk3M = 1 - score3M.mean()\n",
    "\terror_std_sk3M = score3M.std()\n",
    "\tprint(\"Error medio sklearn manhattan: \" + str(error_media_sk3M))\n",
    "\tprint(\"Desviación media del error sklearn manhattan: \" + str(error_std_sk3M))"
   ]
  },
  {
   "cell_type": "code",
   "execution_count": 35,
   "metadata": {},
   "outputs": [
    {
     "name": "stdout",
     "output_type": "stream",
     "text": [
      "Error medio sklearn mahalanobis: 0.1880952380952381\n",
      "Desviación media del error sklearn mahalanobis: 0.04392923230773177\n"
     ]
    }
   ],
   "source": [
    "\tclf3Mahalan = KNeighborsClassifier(n_neighbors=3, p=2, metric='mahalanobis', metric_params={'V': np.cov(x2)})\n",
    "\tscore3Mahalan = cross_val_score(clf3Mahalan, X2, Y2, cv=10, n_jobs=-1)\n",
    "\terror_media_sk3Mahalan = 1 - score3Mahalan.mean()\n",
    "\terror_std_sk3Mahalan = score3Mahalan.std()\n",
    "\tprint(\"Error medio sklearn mahalanobis: \" + str(error_media_sk3Mahalan))\n",
    "\tprint(\"Desviación media del error sklearn mahalanobis: \" + str(error_std_sk3Mahalan))"
   ]
  },
  {
   "cell_type": "code",
   "execution_count": 36,
   "metadata": {},
   "outputs": [
    {
     "name": "stdout",
     "output_type": "stream",
     "text": [
      "\n",
      "K = 5\n",
      "\n",
      "Error medio sklearn euclidean: 0.07023809523809543\n",
      "Desviación media del error sklearn euclidean: 0.02928211070387216\n"
     ]
    }
   ],
   "source": [
    "\tprint(\"\\nK = 5\\n\")\n",
    "\tclf5 = KNeighborsClassifier(n_neighbors=5, p=2, metric='euclidean')\n",
    "\tscore5 = cross_val_score(clf5, X2, Y2, cv=10, n_jobs=-1)\n",
    "\terror_media_sk5 = 1 - score5.mean()\n",
    "\terror_std_sk5 = score5.std()\n",
    "\tprint(\"Error medio sklearn euclidean: \" + str(error_media_sk5))\n",
    "\tprint(\"Desviación media del error sklearn euclidean: \" + str(error_std_sk5))"
   ]
  },
  {
   "cell_type": "code",
   "execution_count": 37,
   "metadata": {},
   "outputs": [
    {
     "name": "stdout",
     "output_type": "stream",
     "text": [
      "Error medio sklearn manhattan: 0.06676065162907285\n",
      "Desviación media del error sklearn manhattan: 0.023219527648472738\n"
     ]
    }
   ],
   "source": [
    "\tclf5M = KNeighborsClassifier(n_neighbors=5, p=2, metric='manhattan')\n",
    "\tscore5M = cross_val_score(clf5M, X2, Y2, cv=10, n_jobs=-1)\n",
    "\terror_media_sk5M = 1 - score5M.mean()\n",
    "\terror_std_sk5M = score5M.std()\n",
    "\tprint(\"Error medio sklearn manhattan: \" + str(error_media_sk5M))\n",
    "\tprint(\"Desviación media del error sklearn manhattan: \" + str(error_std_sk5M))\n"
   ]
  },
  {
   "cell_type": "code",
   "execution_count": 38,
   "metadata": {},
   "outputs": [
    {
     "name": "stdout",
     "output_type": "stream",
     "text": [
      "Error medio sklearn mahalanobis: 0.19680451127819543\n",
      "Desviación media del error sklearn mahalanobis: 0.027850084282687513\n"
     ]
    }
   ],
   "source": [
    "\tclf5Mahalan = KNeighborsClassifier(n_neighbors=5, p=2, metric='mahalanobis', metric_params={'V': np.cov(x2)})\n",
    "\tscore5Mahalan = cross_val_score(clf5Mahalan, X2, Y2, cv=10, n_jobs=-1)\n",
    "\terror_media_sk5Mahalan = 1 - score5Mahalan.mean()\n",
    "\terror_std_sk5Mahalan = score5Mahalan.std()\n",
    "\tprint(\"Error medio sklearn mahalanobis: \" + str(error_media_sk5Mahalan))\n",
    "\tprint(\"Desviación media del error sklearn mahalanobis: \" + str(error_std_sk5Mahalan))\n"
   ]
  },
  {
   "cell_type": "code",
   "execution_count": 39,
   "metadata": {},
   "outputs": [
    {
     "name": "stdout",
     "output_type": "stream",
     "text": [
      "\n",
      "K = 11\n",
      "\n",
      "Error medio sklearn euclidean: 0.07023809523809543\n",
      "Desviación media del error sklearn euclidean: 0.03674100196639737\n"
     ]
    }
   ],
   "source": [
    "\tprint(\"\\nK = 11\\n\")\n",
    "\tclf11 = KNeighborsClassifier(n_neighbors=11, p=2, metric='euclidean')\n",
    "\tscore11 = cross_val_score(clf11, X2, Y2, cv=10, n_jobs=-1)\n",
    "\terror_media_sk11 = 1 - score11.mean()\n",
    "\terror_std_sk11 = score11.std()\n",
    "\tprint(\"Error medio sklearn euclidean: \" + str(error_media_sk11))\n",
    "\tprint(\"Desviación media del error sklearn euclidean: \" + str(error_std_sk11))"
   ]
  },
  {
   "cell_type": "code",
   "execution_count": 40,
   "metadata": {},
   "outputs": [
    {
     "name": "stdout",
     "output_type": "stream",
     "text": [
      "Error medio sklearn manhattan: 0.06669799498746865\n",
      "Desviación media del error sklearn manhattan: 0.04350745859286767\n"
     ]
    }
   ],
   "source": [
    "    \n",
    "\tclf11M = KNeighborsClassifier(n_neighbors=11, p=2, metric='manhattan')\n",
    "\tscore11M = cross_val_score(clf11M, X2, Y2, cv=10, n_jobs=-1)\n",
    "\terror_media_sk11M = 1 - score11M.mean()\n",
    "\terror_std_sk11M = score11M.std()\n",
    "\tprint(\"Error medio sklearn manhattan: \" + str(error_media_sk11M))\n",
    "\tprint(\"Desviación media del error sklearn manhattan: \" + str(error_std_sk11M))"
   ]
  },
  {
   "cell_type": "code",
   "execution_count": 41,
   "metadata": {},
   "outputs": [
    {
     "name": "stdout",
     "output_type": "stream",
     "text": [
      "Error medio sklearn mahalanobis: 0.23029448621553894\n",
      "Desviación media del error sklearn mahalanobis: 0.04224480890666992\n"
     ]
    }
   ],
   "source": [
    "\tclf11Mahalan = KNeighborsClassifier(n_neighbors=11, p=2, metric='mahalanobis', metric_params={'V': np.cov(x2)})\n",
    "\tscore11Mahalan = cross_val_score(clf11Mahalan, X2, Y2, cv=10, n_jobs=-1)\n",
    "\terror_media_sk11Mahalan = 1 - score11Mahalan.mean()\n",
    "\terror_std_sk11Mahalan = score11Mahalan.std()\n",
    "\tprint(\"Error medio sklearn mahalanobis: \" + str(error_media_sk11Mahalan))\n",
    "\tprint(\"Desviación media del error sklearn mahalanobis: \" + str(error_std_sk11Mahalan))"
   ]
  },
  {
   "cell_type": "code",
   "execution_count": 42,
   "metadata": {},
   "outputs": [
    {
     "name": "stdout",
     "output_type": "stream",
     "text": [
      "\n",
      "K = 21\n",
      "\n",
      "Error medio sklearn euclidean: 0.07023809523809521\n",
      "Desviación media del error sklearn euclidean: 0.03502551100183361\n"
     ]
    }
   ],
   "source": [
    "\tprint(\"\\nK = 21\\n\")\n",
    "\tclf21 = KNeighborsClassifier(n_neighbors=21, p=2, metric='euclidean')\n",
    "\tscore21 = cross_val_score(clf21, X2, Y2, cv=10, n_jobs=-1)\n",
    "\terror_media_sk21 = 1 - score21.mean()\n",
    "\terror_std_sk21 = score21.std()\n",
    "\tprint(\"Error medio sklearn euclidean: \" + str(error_media_sk21))\n",
    "\tprint(\"Desviación media del error sklearn euclidean: \" + str(error_std_sk21))"
   ]
  },
  {
   "cell_type": "code",
   "execution_count": 43,
   "metadata": {},
   "outputs": [
    {
     "name": "stdout",
     "output_type": "stream",
     "text": [
      "Error medio sklearn manhattan: 0.0737468671679199\n",
      "Desviación media del error sklearn manhattan: 0.04130973811311904\n"
     ]
    }
   ],
   "source": [
    "\n",
    "\tclf21M = KNeighborsClassifier(n_neighbors=21, p=2, metric='manhattan')\n",
    "\tscore21M = cross_val_score(clf21M, X2, Y2, cv=10, n_jobs=-1)\n",
    "\terror_media_sk21M = 1 - score21M.mean()\n",
    "\terror_std_sk21M = score21M.std()\n",
    "\tprint(\"Error medio sklearn manhattan: \" + str(error_media_sk21M))\n",
    "\tprint(\"Desviación media del error sklearn manhattan: \" + str(error_std_sk21M))"
   ]
  },
  {
   "cell_type": "code",
   "execution_count": 44,
   "metadata": {},
   "outputs": [
    {
     "name": "stdout",
     "output_type": "stream",
     "text": [
      "Error medio sklearn mahalanobis: 0.2952380952380953\n",
      "Desviación media del error sklearn mahalanobis: 0.03197429259913196\n"
     ]
    }
   ],
   "source": [
    "\tclf21Mahalan = KNeighborsClassifier(n_neighbors=21, p=2, metric='mahalanobis', metric_params={'V': np.cov(x2)})\n",
    "\tscore21Mahalan = cross_val_score(clf21Mahalan, X2, Y2, cv=10, n_jobs=-1)\n",
    "\terror_media_sk21Mahalan = 1 - score21Mahalan.mean()\n",
    "\terror_std_sk21Mahalan = score21Mahalan.std()\n",
    "\tprint(\"Error medio sklearn mahalanobis: \" + str(error_media_sk21Mahalan))\n",
    "\tprint(\"Desviación media del error sklearn mahalanobis: \" + str(error_std_sk21Mahalan))\n"
   ]
  },
  {
   "cell_type": "code",
   "execution_count": 45,
   "metadata": {},
   "outputs": [],
   "source": [
    "salida = \"<table><tr><th>K</th><th>Mahalanobis</th><th>Euclidean</th><th>Manhattan</th></tr><tr><td>1</td>\"\n",
    "salida += \"<td>%f</td>\" % (error_media_skMahalan)\n",
    "salida += \"<td>%f</td>\" % (error_media_sk)\n",
    "salida += \"<td>%f</td>\" % (error_media_skM)\n",
    "salida += \"</tr>\" \n",
    "salida += \"<tr><td>3</td>\"\n",
    "salida += \"<td>%f</td>\" % (error_media_sk3Mahalan)\n",
    "salida += \"<td>%f</td>\" % (error_media_sk3)\n",
    "salida += \"<td>%f</td>\" % (error_media_sk3M)\n",
    "salida += \"<tr><td>5</td>\"\n",
    "salida += \"<td>%f</td>\" % (error_media_sk5Mahalan)\n",
    "salida += \"<td>%f</td>\" % (error_media_sk5)\n",
    "salida += \"<td>%f</td>\" % (error_media_sk5M)\n",
    "salida += \"<tr><td>11</td>\"\n",
    "salida += \"<td>%f</td>\" % (error_media_sk11Mahalan)\n",
    "salida += \"<td>%f</td>\" % (error_media_sk11)\n",
    "salida += \"<td>%f</td>\" % (error_media_sk11M)\n",
    "salida += \"<tr><td>21</td>\"\n",
    "salida += \"<td>%f</td>\" % (error_media_sk21Mahalan)\n",
    "salida += \"<td>%f</td>\" % (error_media_sk21)\n",
    "salida += \"<td>%f</td>\" % (error_media_sk21M)"
   ]
  },
  {
   "cell_type": "code",
   "execution_count": 46,
   "metadata": {},
   "outputs": [
    {
     "data": {
      "text/html": [
       "<table><tr><th>K</th><th>Mahalanobis</th><th>Euclidean</th><th>Manhattan</th></tr><tr><td>1</td><td>0.172212</td><td>0.084305</td><td>0.072024</td></tr><tr><td>3</td><td>0.188095</td><td>0.073810</td><td>0.063252</td><tr><td>5</td><td>0.196805</td><td>0.070238</td><td>0.066761</td><tr><td>11</td><td>0.230294</td><td>0.070238</td><td>0.066698</td><tr><td>21</td><td>0.295238</td><td>0.070238</td><td>0.073747</td>"
      ],
      "text/plain": [
       "<IPython.core.display.HTML object>"
      ]
     },
     "metadata": {},
     "output_type": "display_data"
    }
   ],
   "source": [
    "display(HTML(salida))"
   ]
  },
  {
   "cell_type": "markdown",
   "metadata": {},
   "source": [
    "Como en el caso de nuestra implementación, vemos que la distancia Mahalanobis funciona significativamente peor que la euclídea y que manhattan. Como ya hemos mencionado anteriormente esto se debe a la naturaleza de los datos y a la independencia de la correlación que tiene en cuenta **mahalanobis**."
   ]
  },
  {
   "cell_type": "code",
   "execution_count": 47,
   "metadata": {},
   "outputs": [
    {
     "name": "stdout",
     "output_type": "stream",
     "text": [
      "\n",
      "*************** Regresión Logística ***************\n",
      "\n",
      "LogisticRegression\n",
      "Error medio LogisticRegression: 0.045676691729323315\n",
      "Desviación media del error LogisticRegression: 0.02102212029981425\n",
      "\n",
      "SGDClassifier\n",
      "Error medio SGDClassifier: 0.14940476190476204\n",
      "Desviación media del error SGDClassifier: 0.10149452002412329\n"
     ]
    }
   ],
   "source": [
    "\tprint(\"\\n*************** Regresión Logística ***************\")\n",
    "\tprint(\"\\nLogisticRegression\")\n",
    "\tclfRL = LogisticRegression(max_iter=1000, fit_intercept=1)\n",
    "\tscoreRL = cross_val_score(clfRL, X2, Y2, cv=10, n_jobs=-1)\n",
    "\terror_media_skRL = 1 - scoreRL.mean()\n",
    "\terror_std_skRL = scoreRL.std()\n",
    "\n",
    "\tprint(\"Error medio LogisticRegression: \" + str(error_media_skRL))\n",
    "\tprint(\"Desviación media del error LogisticRegression: \" + str(error_std_skRL))\n",
    "\n",
    "\tprint(\"\\nSGDClassifier\")\n",
    "\n",
    "\tclfSGDC = SGDClassifier(max_iter=100, learning_rate='constant', eta0=1)\n",
    "\tscoreSGDC = cross_val_score(clfSGDC, X2, Y2, cv=10, n_jobs=-1)\n",
    "\terror_media_skSGDC = 1 - scoreSGDC.mean()\n",
    "\terror_std_skSGDC = scoreSGDC.std()\n",
    "\n",
    "\tprint(\"Error medio SGDClassifier: \" + str(error_media_skSGDC))\n",
    "\tprint(\"Desviación media del error SGDClassifier: \" + str(error_std_skSGDC))\n"
   ]
  },
  {
   "cell_type": "markdown",
   "metadata": {},
   "source": [
    "Resultado de aplicar regresión logística en wdbc con resultados coherentes y que cumplen lo explicado anteriormente sobre los dos métodos utilizados de sklearn. LogisticRegression obtendrá mejores resultados, SGDClassifier será más rápido y deseable para grandes cantidades de operaciones."
   ]
  },
  {
   "cell_type": "code",
   "execution_count": 48,
   "metadata": {},
   "outputs": [],
   "source": [
    "\n",
    "\t# Análisis ROC\n",
    "\tdiabetes = Datos(\"pima-indians-diabetes.data\")\n",
    "\twdbc = Datos(\"wdbc.data\")\n",
    "\teuclid_1_x = [0, 0, 1]\n",
    "\teuclid_1_y = [0, 0, 1]\n",
    "\teuclid_5_x = [0, 0, 1]\n",
    "\teuclid_5_y = [0, 0, 1]\n",
    "\teuclid_11_x = [0, 0, 1]\n",
    "\teuclid_11_y = [0, 0, 1]\n",
    "\teuclid_21_x = [0, 0, 1]\n",
    "\teuclid_21_y = [0, 0, 1]\n",
    "\tmanhatt_1_x = [0, 0, 1]\n",
    "\tmanhatt_1_y = [0, 0, 1]\n",
    "\tmanhatt_5_x = [0, 0, 1]\n",
    "\tmanhatt_5_y = [0, 0, 1]\n",
    "\tmanhatt_11_x = [0, 0, 1]\n",
    "\tmanhatt_11_y = [0, 0, 1]\n",
    "\tmanhatt_21_x = [0, 0, 1]\n",
    "\tmanhatt_21_y = [0, 0, 1]\n",
    "\tmahalan_1_x = [0, 0, 1]\n",
    "\tmahalan_1_y = [0, 0, 1]\n",
    "\tmahalan_5_x = [0, 0, 1]\n",
    "\tmahalan_5_y = [0, 0, 1]\n",
    "\tmahalan_11_x = [0, 0, 1]\n",
    "\tmahalan_11_y = [0, 0, 1]\n",
    "\tmahalan_21_x = [0, 0, 1]\n",
    "\tmahalan_21_y = [0, 0, 1]"
   ]
  },
  {
   "cell_type": "code",
   "execution_count": 49,
   "metadata": {},
   "outputs": [],
   "source": [
    "\t# K-NN -> Diabetes\n",
    "\tknn = ClasificadorVecinosProximos()\n",
    "\tvc = ValidacionCruzada()\n",
    "\tvc.creaParticiones(diabetes.datos)\n",
    "\tparticiones = vc.particiones\n",
    "\tfor particion in particiones:\n",
    "\t\tknn.entrenamiento(diabetes.extraeDatos(particion.indicesTrain), diabetes.nominalAtributos, diabetes.diccionario)\n",
    "\t\tdatosTest = diabetes.extraeDatos(particion.indicesTest)\n",
    "\t\tresult = knn.clasifica(datosTest, diabetes.nominalAtributos, diabetes.diccionario)\n",
    "\t\tclase = datosTest[:, len(diabetes.nominalAtributos) - 1]\n",
    "\t\tfor i in range(0, len(result)):\n",
    "\t\t\ttp, tn, fp, fn = valores_roc(clase, result[i])\n",
    "\n",
    "\t\t\t# i va de 0 a 1\n",
    "\t\t\t# i = 0, 1, 2 => k = 1\n",
    "\t\t\t# i = 3, 4, 5 => k = 5\n",
    "\t\t\t# i = 6, 7, 8 => k = 11\n",
    "\t\t\t# i = 9, 10, 11 => k = 21\n",
    "\t\t\t# i = 0, 3, 6, 9 => Distancia Euclidea\n",
    "\t\t\t# i = 1, 4, 7, 10 => Distancia de Manhattan\n",
    "\t\t\t# i = 2, 5, 8, 11 => Distancia de Mahalanobis\n",
    "\t\t\ttpr = tp / (tp + fn)\n",
    "\t\t\tfpr = fp / (fp + tn)\n",
    "\n",
    "\t\t\tif i == 0:\n",
    "\t\t\t\teuclid_1_x[1] += fpr\n",
    "\t\t\t\teuclid_1_y[1] += tpr\n",
    "\t\t\telif i == 1:\n",
    "\t\t\t\tmanhatt_1_x[1] += fpr\n",
    "\t\t\t\tmanhatt_1_y[1] += tpr\n",
    "\t\t\telif i == 2:\n",
    "\t\t\t\tmahalan_1_x[1] += fpr\n",
    "\t\t\t\tmahalan_1_y[1] += tpr\n",
    "\t\t\telif i == 3:\n",
    "\t\t\t\teuclid_5_x[1] += fpr\n",
    "\t\t\t\teuclid_5_y[1] += tpr\n",
    "\t\t\telif i == 4:\n",
    "\t\t\t\tmanhatt_5_x[1] += fpr\n",
    "\t\t\t\tmanhatt_5_y[1] += tpr\n",
    "\t\t\telif i == 5:\n",
    "\t\t\t\tmahalan_5_x[1] += fpr\n",
    "\t\t\t\tmahalan_5_y[1] += tpr\n",
    "\t\t\telif i == 6:\n",
    "\t\t\t\teuclid_11_x[1] += fpr\n",
    "\t\t\t\teuclid_11_y[1] += tpr\n",
    "\t\t\telif i == 7:\n",
    "\t\t\t\tmanhatt_11_x[1] += fpr\n",
    "\t\t\t\tmanhatt_11_y[1] += tpr\n",
    "\t\t\telif i == 8:\n",
    "\t\t\t\tmahalan_11_x[1] += fpr\n",
    "\t\t\t\tmahalan_11_y[1] += tpr\n",
    "\t\t\telif i == 9:\n",
    "\t\t\t\teuclid_21_x[1] += fpr\n",
    "\t\t\t\teuclid_21_y[1] += tpr\n",
    "\t\t\telif i == 10:\n",
    "\t\t\t\tmanhatt_21_x[1] += fpr\n",
    "\t\t\t\tmanhatt_21_y[1] += tpr\n",
    "\t\t\telif i == 11:\n",
    "\t\t\t\tmahalan_21_x[1] += fpr\n",
    "\t\t\t\tmahalan_21_y[1] += tpr\n"
   ]
  },
  {
   "cell_type": "code",
   "execution_count": 50,
   "metadata": {},
   "outputs": [
    {
     "data": {
      "image/png": "[encoded data removed]",
      "text/plain": [
       "<Figure size 432x288 with 1 Axes>"
      ]
     },
     "metadata": {
      "needs_background": "light"
     },
     "output_type": "display_data"
    },
    {
     "data": {
      "image/png": "[encoded data removed]",
      "text/plain": [
       "<Figure size 432x288 with 1 Axes>"
      ]
     },
     "metadata": {
      "needs_background": "light"
     },
     "output_type": "display_data"
    },
    {
     "data": {
      "image/png": "[encoded data removed]",
      "text/plain": [
       "<Figure size 432x288 with 1 Axes>"
      ]
     },
     "metadata": {
      "needs_background": "light"
     },
     "output_type": "display_data"
    },
    {
     "data": {
      "image/png": "[encoded data removed]",
      "text/plain": [
       "<Figure size 432x288 with 1 Axes>"
      ]
     },
     "metadata": {
      "needs_background": "light"
     },
     "output_type": "display_data"
    }
   ],
   "source": [
    "\teuclid_1_x[1] /= len(particiones)\n",
    "\teuclid_1_y[1] /= len(particiones)\n",
    "\teuclid_5_x[1] /= len(particiones)\n",
    "\teuclid_5_y[1] /= len(particiones)\n",
    "\teuclid_11_x[1] /= len(particiones)\n",
    "\teuclid_11_y[1] /= len(particiones)\n",
    "\teuclid_21_x[1] /= len(particiones)\n",
    "\teuclid_21_y[1] /= len(particiones)\n",
    "\tmanhatt_1_x[1] /= len(particiones)\n",
    "\tmanhatt_1_y[1] /= len(particiones)\n",
    "\tmanhatt_5_x[1] /= len(particiones)\n",
    "\tmanhatt_5_y[1] /= len(particiones)\n",
    "\tmanhatt_11_x[1] /= len(particiones)\n",
    "\tmanhatt_11_y[1] /= len(particiones)\n",
    "\tmanhatt_21_x[1] /= len(particiones)\n",
    "\tmanhatt_21_y[1] /= len(particiones)\n",
    "\tmahalan_1_x[1] /= len(particiones)\n",
    "\tmahalan_1_y[1] /= len(particiones)\n",
    "\tmahalan_5_x[1] /= len(particiones)\n",
    "\tmahalan_5_y[1] /= len(particiones)\n",
    "\tmahalan_11_x[1] /= len(particiones)\n",
    "\tmahalan_11_y[1] /= len(particiones)\n",
    "\tmahalan_21_x[1] /= len(particiones)\n",
    "\tmahalan_21_y[1] /= len(particiones)\n",
    "\n",
    "\trepr_grafica('Curva ROC Diabetes K-NN k=1', 'False Positive Rate', 'True Positive Rate', 3,\n",
    "\t\t\t\t ['euclid', 'manhattan', 'mahalanobis'], ['darkorange', 'darkgreen', 'deeppink'],\n",
    "\t\t\t\t [euclid_1_x, manhatt_1_x, mahalan_1_x], [euclid_1_y, manhatt_1_y, mahalan_1_y])\n",
    "\trepr_grafica('Curva ROC Diabetes K-NN k=5', 'False Positive Rate', 'True Positive Rate', 3,\n",
    "\t\t\t\t ['euclid', 'manhattan', 'mahalanobis'], ['darkorange', 'darkgreen', 'deeppink'],\n",
    "\t\t\t\t [euclid_5_x, manhatt_5_x, mahalan_5_x], [euclid_5_y, manhatt_5_y, mahalan_5_y])\n",
    "\trepr_grafica('Curva ROC  Diabetes K-NN k=11', 'False Positive Rate', 'True Positive Rate', 3,\n",
    "\t\t\t\t ['euclid', 'manhattan', 'mahalanobis'], ['darkorange', 'darkgreen', 'deeppink'],\n",
    "\t\t\t\t [euclid_11_x, manhatt_11_x, mahalan_11_x], [euclid_11_y, manhatt_11_y, mahalan_11_y])\n",
    "\trepr_grafica('Curva ROC Diabetes K-NN k=21', 'False Positive Rate', 'True Positive Rate', 3,\n",
    "\t\t\t\t ['euclid', 'manhattan', 'mahalanobis'], ['darkorange', 'darkgreen', 'deeppink'],\n",
    "\t\t\t\t [euclid_21_x, manhatt_21_x, mahalan_21_x], [euclid_21_y, manhatt_21_y, mahalan_21_y])"
   ]
  },
  {
   "cell_type": "markdown",
   "metadata": {},
   "source": [
    "Como vemos en el análisis ROC, a más vecinos, mejores resultados. También observamos como se acrecenta la diferencia entre las distintas formas de calcular la distancia a medida que incrementamos K."
   ]
  },
  {
   "cell_type": "code",
   "execution_count": 51,
   "metadata": {},
   "outputs": [],
   "source": [
    "\teuclid_1_x = [0, 0, 1]\n",
    "\teuclid_1_y = [0, 0, 1]\n",
    "\teuclid_5_x = [0, 0, 1]\n",
    "\teuclid_5_y = [0, 0, 1]\n",
    "\teuclid_11_x = [0, 0, 1]\n",
    "\teuclid_11_y = [0, 0, 1]\n",
    "\teuclid_21_x = [0, 0, 1]\n",
    "\teuclid_21_y = [0, 0, 1]\n",
    "\tmanhatt_1_x = [0, 0, 1]\n",
    "\tmanhatt_1_y = [0, 0, 1]\n",
    "\tmanhatt_5_x = [0, 0, 1]\n",
    "\tmanhatt_5_y = [0, 0, 1]\n",
    "\tmanhatt_11_x = [0, 0, 1]\n",
    "\tmanhatt_11_y = [0, 0, 1]\n",
    "\tmanhatt_21_x = [0, 0, 1]\n",
    "\tmanhatt_21_y = [0, 0, 1]\n",
    "\tmahalan_1_x = [0, 0, 1]\n",
    "\tmahalan_1_y = [0, 0, 1]\n",
    "\tmahalan_5_x = [0, 0, 1]\n",
    "\tmahalan_5_y = [0, 0, 1]\n",
    "\tmahalan_11_x = [0, 0, 1]\n",
    "\tmahalan_11_y = [0, 0, 1]\n",
    "\tmahalan_21_x = [0, 0, 1]\n",
    "\tmahalan_21_y = [0, 0, 1]"
   ]
  },
  {
   "cell_type": "code",
   "execution_count": 52,
   "metadata": {},
   "outputs": [],
   "source": [
    "\t# K-NN -> WDBC\n",
    "\tknn = ClasificadorVecinosProximos()\n",
    "\tvc = ValidacionCruzada()\n",
    "\tvc.creaParticiones(wdbc.datos)\n",
    "\tparticiones = vc.particiones\n",
    "\tfor particion in particiones:\n",
    "\t\tknn.entrenamiento(wdbc.extraeDatos(particion.indicesTrain), wdbc.nominalAtributos, wdbc.diccionario)\n",
    "\t\tdatosTest = wdbc.extraeDatos(particion.indicesTest)\n",
    "\t\tresult = knn.clasifica(datosTest, wdbc.nominalAtributos, wdbc.diccionario)\n",
    "\t\tclase = datosTest[:, len(wdbc.nominalAtributos) - 1]\n",
    "\t\tfor i in range(0, len(result)):\n",
    "\t\t\ttp, tn, fp, fn = valores_roc(clase, result[i])\n",
    "\n",
    "\t\t\t# i va de 0 a 1\n",
    "\t\t\t# i = 0, 1, 2 => k = 1\n",
    "\t\t\t# i = 3, 4, 5 => k = 5\n",
    "\t\t\t# i = 6, 7, 8 => k = 11\n",
    "\t\t\t# i = 9, 10, 11 => k = 21\n",
    "\t\t\t# i = 0, 3, 6, 9 => Distancia Euclidea\n",
    "\t\t\t# i = 1, 4, 7, 10 => Distancia de Manhattan\n",
    "\t\t\t# i = 2, 5, 8, 11 => Distancia de Mahalanobis\n",
    "\t\t\ttpr = tp / (tp + fn)\n",
    "\t\t\tfpr = fp / (fp + tn)\n",
    "\n",
    "\t\t\tif i == 0:\n",
    "\t\t\t\teuclid_1_x[1] += fpr\n",
    "\t\t\t\teuclid_1_y[1] += tpr\n",
    "\t\t\telif i == 1:\n",
    "\t\t\t\tmanhatt_1_x[1] += fpr\n",
    "\t\t\t\tmanhatt_1_y[1] += tpr\n",
    "\t\t\telif i == 2:\n",
    "\t\t\t\tmahalan_1_x[1] += fpr\n",
    "\t\t\t\tmahalan_1_y[1] += tpr\n",
    "\t\t\telif i == 3:\n",
    "\t\t\t\teuclid_5_x[1] += fpr\n",
    "\t\t\t\teuclid_5_y[1] += tpr\n",
    "\t\t\telif i == 4:\n",
    "\t\t\t\tmanhatt_5_x[1] += fpr\n",
    "\t\t\t\tmanhatt_5_y[1] += tpr\n",
    "\t\t\telif i == 5:\n",
    "\t\t\t\tmahalan_5_x[1] += fpr\n",
    "\t\t\t\tmahalan_5_y[1] += tpr\n",
    "\t\t\telif i == 6:\n",
    "\t\t\t\teuclid_11_x[1] += fpr\n",
    "\t\t\t\teuclid_11_y[1] += tpr\n",
    "\t\t\telif i == 7:\n",
    "\t\t\t\tmanhatt_11_x[1] += fpr\n",
    "\t\t\t\tmanhatt_11_y[1] += tpr\n",
    "\t\t\telif i == 8:\n",
    "\t\t\t\tmahalan_11_x[1] += fpr\n",
    "\t\t\t\tmahalan_11_y[1] += tpr\n",
    "\t\t\telif i == 9:\n",
    "\t\t\t\teuclid_21_x[1] += fpr\n",
    "\t\t\t\teuclid_21_y[1] += tpr\n",
    "\t\t\telif i == 10:\n",
    "\t\t\t\tmanhatt_21_x[1] += fpr\n",
    "\t\t\t\tmanhatt_21_y[1] += tpr\n",
    "\t\t\telif i == 11:\n",
    "\t\t\t\tmahalan_21_x[1] += fpr\n",
    "\t\t\t\tmahalan_21_y[1] += tpr\n"
   ]
  },
  {
   "cell_type": "code",
   "execution_count": 53,
   "metadata": {},
   "outputs": [],
   "source": [
    "\n",
    "\teuclid_1_x[1] /= len(particiones)\n",
    "\teuclid_1_y[1] /= len(particiones)\n",
    "\teuclid_5_x[1] /= len(particiones)\n",
    "\teuclid_5_y[1] /= len(particiones)\n",
    "\teuclid_11_x[1] /= len(particiones)\n",
    "\teuclid_11_y[1] /= len(particiones)\n",
    "\teuclid_21_x[1] /= len(particiones)\n",
    "\teuclid_21_y[1] /= len(particiones)\n",
    "\tmanhatt_1_x[1] /= len(particiones)\n",
    "\tmanhatt_1_y[1] /= len(particiones)\n",
    "\tmanhatt_5_x[1] /= len(particiones)\n",
    "\tmanhatt_5_y[1] /= len(particiones)\n",
    "\tmanhatt_11_x[1] /= len(particiones)\n",
    "\tmanhatt_11_y[1] /= len(particiones)\n",
    "\tmanhatt_21_x[1] /= len(particiones)\n",
    "\tmanhatt_21_y[1] /= len(particiones)\n",
    "\tmahalan_1_x[1] /= len(particiones)\n",
    "\tmahalan_1_y[1] /= len(particiones)\n",
    "\tmahalan_5_x[1] /= len(particiones)\n",
    "\tmahalan_5_y[1] /= len(particiones)\n",
    "\tmahalan_11_x[1] /= len(particiones)\n",
    "\tmahalan_11_y[1] /= len(particiones)\n",
    "\tmahalan_21_x[1] /= len(particiones)\n",
    "\tmahalan_21_y[1] /= len(particiones)\n"
   ]
  },
  {
   "cell_type": "code",
   "execution_count": 54,
   "metadata": {},
   "outputs": [
    {
     "data": {
      "image/png": "[encoded data removed]",
      "text/plain": [
       "<Figure size 432x288 with 1 Axes>"
      ]
     },
     "metadata": {
      "needs_background": "light"
     },
     "output_type": "display_data"
    },
    {
     "data": {
      "image/png": "[encoded data removed]",
      "text/plain": [
       "<Figure size 432x288 with 1 Axes>"
      ]
     },
     "metadata": {
      "needs_background": "light"
     },
     "output_type": "display_data"
    },
    {
     "data": {
      "image/png": "[encoded data removed]",
      "text/plain": [
       "<Figure size 432x288 with 1 Axes>"
      ]
     },
     "metadata": {
      "needs_background": "light"
     },
     "output_type": "display_data"
    },
    {
     "data": {
      "image/png": "[encoded data removed]",
      "text/plain": [
       "<Figure size 432x288 with 1 Axes>"
      ]
     },
     "metadata": {
      "needs_background": "light"
     },
     "output_type": "display_data"
    }
   ],
   "source": [
    "\n",
    "\trepr_grafica('Curva ROC WDBC K-NN k=1', 'False Positive Rate', 'True Positive Rate', 3,\n",
    "\t\t\t\t ['euclid', 'manhattan', 'mahalanobis'], ['darkorange', 'darkgreen', 'deeppink'],\n",
    "\t\t\t\t [euclid_1_x, manhatt_1_x, mahalan_1_x], [euclid_1_y, manhatt_1_y, mahalan_1_y])\n",
    "\trepr_grafica('Curva ROC WDBC K-NN k=5', 'False Positive Rate', 'True Positive Rate', 3,\n",
    "\t\t\t\t ['euclid', 'manhattan', 'mahalanobis'], ['darkorange', 'darkgreen', 'deeppink'],\n",
    "\t\t\t\t [euclid_5_x, manhatt_5_x, mahalan_5_x], [euclid_5_y, manhatt_5_y, mahalan_5_y])\n",
    "\trepr_grafica('Curva ROC  WDBC K-NN k=11', 'False Positive Rate', 'True Positive Rate', 3,\n",
    "\t\t\t\t ['euclid', 'manhattan', 'mahalanobis'], ['darkorange', 'darkgreen', 'deeppink'],\n",
    "\t\t\t\t [euclid_11_x, manhatt_11_x, mahalan_11_x], [euclid_11_y, manhatt_11_y, mahalan_11_y])\n",
    "\trepr_grafica('Curva ROC WDBC K-NN k=21', 'False Positive Rate', 'True Positive Rate', 3,\n",
    "\t\t\t\t ['euclid', 'manhattan', 'mahalanobis'], ['darkorange', 'darkgreen', 'deeppink'],\n",
    "\t\t\t\t [euclid_21_x, manhatt_21_x, mahalan_21_x], [euclid_21_y, manhatt_21_y, mahalan_21_y])"
   ]
  },
  {
   "cell_type": "markdown",
   "metadata": {},
   "source": [
    "En el caso de wdbc obtenemos mejores resultados con KNN. Aquí se acrecenta aún más la diferencia entre mahalanobis y las demás distancias."
   ]
  },
  {
   "cell_type": "code",
   "execution_count": 55,
   "metadata": {},
   "outputs": [
    {
     "data": {
      "image/png": "[encoded data removed]",
      "text/plain": [
       "<Figure size 432x288 with 1 Axes>"
      ]
     },
     "metadata": {
      "needs_background": "light"
     },
     "output_type": "display_data"
    }
   ],
   "source": [
    "\tx = [0, 0, 1]\n",
    "\ty = [0, 0, 1]\n",
    "\t# Regresión -> Diabetes\n",
    "\treg = ClasificadorRegresionLogistica()\n",
    "\tvc = ValidacionCruzada()\n",
    "\tvc.creaParticiones(diabetes.datos)\n",
    "\tparticiones = vc.particiones\n",
    "\tfor particion in particiones:\n",
    "\t\treg.entrenamiento(diabetes.extraeDatos(particion.indicesTrain), diabetes.nominalAtributos, diabetes.diccionario)\n",
    "\t\tdatosTest = diabetes.extraeDatos(particion.indicesTest)\n",
    "\t\tresult = reg.clasifica(datosTest, diabetes.nominalAtributos, diabetes.diccionario)\n",
    "\t\tclase = datosTest[:, len(diabetes.nominalAtributos) - 1]\n",
    "\t\tfor i in range(0, len(result)):\n",
    "\t\t\ttp, tn, fp, fn = valores_roc(clase, result[i])\n",
    "\t\t\ttpr = tp / (tp + fn)\n",
    "\t\t\tfpr = fp / (fp + tn)\n",
    "\t\t\tx[1] += fpr\n",
    "\t\t\ty[1] += tpr\n",
    "\tx[1] /= len(particiones)\n",
    "\ty[1] /= len(particiones)\n",
    "\trepr_grafica('Curva ROC Regresión Diabetes', 'False Positive Rate', 'True Positive Rate', 1,['Log_reg'],\n",
    "\t\t\t\t ['darkorange'], [x], [y])\n"
   ]
  },
  {
   "cell_type": "code",
   "execution_count": 56,
   "metadata": {},
   "outputs": [
    {
     "data": {
      "image/png": "[encoded data removed]",
      "text/plain": [
       "<Figure size 432x288 with 1 Axes>"
      ]
     },
     "metadata": {
      "needs_background": "light"
     },
     "output_type": "display_data"
    }
   ],
   "source": [
    "\tx = [0, 0, 1]\n",
    "\ty = [0, 0, 1]\n",
    "\t# Regresión -> WDBC\n",
    "\treg = ClasificadorRegresionLogistica()\n",
    "\tvc = ValidacionCruzada()\n",
    "\tvc.creaParticiones(wdbc.datos)\n",
    "\tparticiones = vc.particiones\n",
    "\tfor particion in particiones:\n",
    "\t\treg.entrenamiento(wdbc.extraeDatos(particion.indicesTrain), wdbc.nominalAtributos, wdbc.diccionario)\n",
    "\t\tdatosTest = wdbc.extraeDatos(particion.indicesTest)\n",
    "\t\tresult = reg.clasifica(datosTest, wdbc.nominalAtributos, wdbc.diccionario)\n",
    "\t\tclase = datosTest[:, len(wdbc.nominalAtributos) - 1]\n",
    "\t\tfor i in range(0, len(result)):\n",
    "\t\t\ttp, tn, fp, fn = valores_roc(clase, result[i])\n",
    "\t\t\ttpr = tp / (tp + fn)\n",
    "\t\t\tfpr = fp / (fp + tn)\n",
    "\t\t\tx[1] += fpr\n",
    "\t\t\ty[1] += tpr\n",
    "\tx[1] /= len(particiones)\n",
    "\ty[1] /= len(particiones)\n",
    "\trepr_grafica('Curva ROC Regresión WDBC', 'False Positive Rate', 'True Positive Rate', 1, ['Log_reg'],\n",
    "\t\t\t\t ['darkorange'], [x], [y])\n",
    "\n"
   ]
  },
  {
   "cell_type": "markdown",
   "metadata": {},
   "source": [
    "En el caso de las curvas ROC de la regresión logística podemos observar la enorme dependencia que tiene la efectividad de un método de la distribución de los datos estudiados."
   ]
  },
  {
   "cell_type": "code",
   "execution_count": null,
   "metadata": {},
   "outputs": [],
   "source": []
  }
 ],
 "metadata": {
  "kernelspec": {
   "display_name": "Python 3",
   "language": "python",
   "name": "python3"
  },
  "language_info": {
   "codemirror_mode": {
    "name": "ipython",
    "version": 3
   },
   "file_extension": ".py",
   "mimetype": "text/x-python",
   "name": "python",
   "nbconvert_exporter": "python",
   "pygments_lexer": "ipython3",
   "version": "3.7.5"
  }
 },
 "nbformat": 4,
 "nbformat_minor": 4
}
